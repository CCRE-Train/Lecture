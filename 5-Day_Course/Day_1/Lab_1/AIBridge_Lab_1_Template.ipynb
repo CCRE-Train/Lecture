{
  "nbformat": 4,
  "nbformat_minor": 0,
  "metadata": {
    "colab": {
      "provenance": []
    },
    "kernelspec": {
      "name": "python3",
      "display_name": "Python 3"
    },
    "language_info": {
      "name": "python"
    }
  },
  "cells": [
    {
      "cell_type": "markdown",
      "source": [
        "## LAB 1\n",
        "### Please make a copy of this!\n",
        "\n",
        "In this lab, we will look at how to import data to Colab, manipulate the data to find some basic statistics of the data -- mean, median, min, max -- and then filter the data based on certain conditions."
      ],
      "metadata": {
        "id": "QW3qzOd6OltB"
      }
    },
    {
      "cell_type": "code",
      "source": [
        "# Downloads and unzips Iris data through UCI Database\n",
        "!wget https://archive.ics.uci.edu/static/public/53/iris.zip\n",
        "!unzip iris.zip"
      ],
      "metadata": {
        "id": "HPcJTxqUY9eF"
      },
      "execution_count": null,
      "outputs": []
    },
    {
      "cell_type": "code",
      "execution_count": null,
      "metadata": {
        "id": "A1TCRVggMxzp"
      },
      "outputs": [],
      "source": [
        "### Template code for reading iris data\n",
        "opened_dataset = open(\"/content/iris.data\", \"r\")\n",
        "iris_data_by_lines = opened_dataset.readlines()\n",
        "opened_dataset.close()\n",
        "iris_data_by_lines.pop(-1)\n",
        "for i in range(len(iris_data_by_lines)):\n",
        " iris_data_by_lines[i] = iris_data_by_lines[i].split(',')\n",
        "sepal_lengths=[]\n",
        "for line in iris_data_by_lines:\n",
        " sepal_lengths.append(float(line[0]))"
      ]
    },
    {
      "cell_type": "code",
      "source": [
        "print(sepal_lengths)"
      ],
      "metadata": {
        "id": "kArfbbxyULFt"
      },
      "execution_count": null,
      "outputs": []
    },
    {
      "cell_type": "code",
      "source": [],
      "metadata": {
        "id": "bCjUKPRgM4_u"
      },
      "execution_count": null,
      "outputs": []
    }
  ]
}