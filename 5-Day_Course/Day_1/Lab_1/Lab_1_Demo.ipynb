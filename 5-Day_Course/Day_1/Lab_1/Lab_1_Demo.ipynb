{
  "nbformat": 4,
  "nbformat_minor": 0,
  "metadata": {
    "colab": {
      "provenance": []
    },
    "kernelspec": {
      "name": "python3",
      "display_name": "Python 3"
    },
    "language_info": {
      "name": "python"
    }
  },
  "cells": [
    {
      "cell_type": "markdown",
      "source": [
        "## LAB 1\n",
        "### Please make a copy of this!\n",
        "\n",
        "In this lab, we will look at how to import data to Colab, manipulate the data to find some basic statistics of the data -- mean, median, min, max -- and then filter the data based on certain conditions."
      ],
      "metadata": {
        "id": "QW3qzOd6OltB"
      }
    },
    {
      "cell_type": "code",
      "source": [
        "# Downloads and unzips Iris data through UCI Database\n",
        "!wget https://archive.ics.uci.edu/static/public/53/iris.zip\n",
        "!unzip iris.zip"
      ],
      "metadata": {
        "id": "HPcJTxqUY9eF",
        "colab": {
          "base_uri": "https://localhost:8080/"
        },
        "outputId": "4872f2c8-4ba3-414f-df67-eea8750147f8"
      },
      "execution_count": null,
      "outputs": [
        {
          "output_type": "stream",
          "name": "stdout",
          "text": [
            "--2024-06-17 17:37:29--  https://archive.ics.uci.edu/static/public/53/iris.zip\n",
            "Resolving archive.ics.uci.edu (archive.ics.uci.edu)... 128.195.10.252\n",
            "Connecting to archive.ics.uci.edu (archive.ics.uci.edu)|128.195.10.252|:443... connected.\n",
            "HTTP request sent, awaiting response... 200 OK\n",
            "Length: unspecified\n",
            "Saving to: ‘iris.zip’\n",
            "\n",
            "\riris.zip                [<=>                 ]       0  --.-KB/s               \riris.zip                [ <=>                ]   3.65K  --.-KB/s    in 0s      \n",
            "\n",
            "2024-06-17 17:37:30 (365 MB/s) - ‘iris.zip’ saved [3738]\n",
            "\n",
            "Archive:  iris.zip\n",
            "  inflating: Index                   \n",
            "  inflating: bezdekIris.data         \n",
            "  inflating: iris.data               \n",
            "  inflating: iris.names              \n"
          ]
        }
      ]
    },
    {
      "cell_type": "code",
      "execution_count": null,
      "metadata": {
        "id": "A1TCRVggMxzp"
      },
      "outputs": [],
      "source": [
        "### Template code for reading iris data\n",
        "opened_dataset = open(\"/content/iris.data\", \"r\")\n",
        "iris_data_by_lines = opened_dataset.readlines()\n",
        "opened_dataset.close()\n",
        "iris_data_by_lines.pop(-1)\n",
        "for i in range(len(iris_data_by_lines)):\n",
        " iris_data_by_lines[i] = iris_data_by_lines[i].split(',')\n",
        "sepal_lengths=[]\n",
        "for line in iris_data_by_lines:\n",
        " sepal_lengths.append(float(line[0]))"
      ]
    },
    {
      "cell_type": "code",
      "source": [
        "print(sepal_lengths)"
      ],
      "metadata": {
        "id": "kArfbbxyULFt",
        "colab": {
          "base_uri": "https://localhost:8080/"
        },
        "outputId": "d358b53c-5e78-4c7a-9ab2-2258ad7df0ac"
      },
      "execution_count": null,
      "outputs": [
        {
          "output_type": "stream",
          "name": "stdout",
          "text": [
            "[5.1, 4.9, 4.7, 4.6, 5.0, 5.4, 4.6, 5.0, 4.4, 4.9, 5.4, 4.8, 4.8, 4.3, 5.8, 5.7, 5.4, 5.1, 5.7, 5.1, 5.4, 5.1, 4.6, 5.1, 4.8, 5.0, 5.0, 5.2, 5.2, 4.7, 4.8, 5.4, 5.2, 5.5, 4.9, 5.0, 5.5, 4.9, 4.4, 5.1, 5.0, 4.5, 4.4, 5.0, 5.1, 4.8, 5.1, 4.6, 5.3, 5.0, 7.0, 6.4, 6.9, 5.5, 6.5, 5.7, 6.3, 4.9, 6.6, 5.2, 5.0, 5.9, 6.0, 6.1, 5.6, 6.7, 5.6, 5.8, 6.2, 5.6, 5.9, 6.1, 6.3, 6.1, 6.4, 6.6, 6.8, 6.7, 6.0, 5.7, 5.5, 5.5, 5.8, 6.0, 5.4, 6.0, 6.7, 6.3, 5.6, 5.5, 5.5, 6.1, 5.8, 5.0, 5.6, 5.7, 5.7, 6.2, 5.1, 5.7, 6.3, 5.8, 7.1, 6.3, 6.5, 7.6, 4.9, 7.3, 6.7, 7.2, 6.5, 6.4, 6.8, 5.7, 5.8, 6.4, 6.5, 7.7, 7.7, 6.0, 6.9, 5.6, 7.7, 6.3, 6.7, 7.2, 6.2, 6.1, 6.4, 7.2, 7.4, 7.9, 6.4, 6.3, 6.1, 7.7, 6.3, 6.4, 6.0, 6.9, 6.7, 6.9, 5.8, 6.8, 6.7, 6.7, 6.3, 6.5, 6.2, 5.9]\n"
          ]
        }
      ]
    },
    {
      "cell_type": "code",
      "source": [
        "# get the sum of all the values in the sepal_lengths list\n",
        "sepal_lengths_sum = sum(sepal_lengths)\n",
        "print(sepal_lengths_sum)"
      ],
      "metadata": {
        "id": "bCjUKPRgM4_u",
        "colab": {
          "base_uri": "https://localhost:8080/"
        },
        "outputId": "7a8f8085-8d82-452f-ac3f-cffeba17d693"
      },
      "execution_count": null,
      "outputs": [
        {
          "output_type": "stream",
          "name": "stdout",
          "text": [
            "876.5000000000002\n"
          ]
        }
      ]
    },
    {
      "cell_type": "code",
      "source": [
        "# get the length of the sepal_lengths list\n",
        "sepal_lengths_len = len(sepal_lengths)\n",
        "print(sepal_lengths_len)"
      ],
      "metadata": {
        "colab": {
          "base_uri": "https://localhost:8080/"
        },
        "id": "If1JYyP0SCu9",
        "outputId": "a4084c2b-b11a-43fc-98b4-6f8e31411998"
      },
      "execution_count": null,
      "outputs": [
        {
          "output_type": "stream",
          "name": "stdout",
          "text": [
            "150\n"
          ]
        }
      ]
    },
    {
      "cell_type": "code",
      "source": [
        "# calculate the mean using the sum and the length\n",
        "sepal_lengths_mean = sepal_lengths_sum / sepal_lengths_len\n",
        "print(\"The mean is:\", sepal_lengths_mean)"
      ],
      "metadata": {
        "colab": {
          "base_uri": "https://localhost:8080/"
        },
        "id": "jGSnkR3hSUbu",
        "outputId": "57fe5516-e49a-4d09-b1ba-5cc0b3df7102"
      },
      "execution_count": null,
      "outputs": [
        {
          "output_type": "stream",
          "name": "stdout",
          "text": [
            "The mean is: 5.843333333333335\n"
          ]
        }
      ]
    },
    {
      "cell_type": "code",
      "source": [
        "# sort the list so that we can find the median\n",
        "sepal_lengths.sort()"
      ],
      "metadata": {
        "id": "us2js4xtTLkI"
      },
      "execution_count": null,
      "outputs": []
    },
    {
      "cell_type": "code",
      "source": [
        "print(sepal_lengths)"
      ],
      "metadata": {
        "colab": {
          "base_uri": "https://localhost:8080/"
        },
        "id": "FskOPVJhTl8S",
        "outputId": "6254fb8a-822a-4fb2-9982-31025a428f6c"
      },
      "execution_count": null,
      "outputs": [
        {
          "output_type": "stream",
          "name": "stdout",
          "text": [
            "[4.3, 4.4, 4.4, 4.4, 4.5, 4.6, 4.6, 4.6, 4.6, 4.7, 4.7, 4.8, 4.8, 4.8, 4.8, 4.8, 4.9, 4.9, 4.9, 4.9, 4.9, 4.9, 5.0, 5.0, 5.0, 5.0, 5.0, 5.0, 5.0, 5.0, 5.0, 5.0, 5.1, 5.1, 5.1, 5.1, 5.1, 5.1, 5.1, 5.1, 5.1, 5.2, 5.2, 5.2, 5.2, 5.3, 5.4, 5.4, 5.4, 5.4, 5.4, 5.4, 5.5, 5.5, 5.5, 5.5, 5.5, 5.5, 5.5, 5.6, 5.6, 5.6, 5.6, 5.6, 5.6, 5.7, 5.7, 5.7, 5.7, 5.7, 5.7, 5.7, 5.7, 5.8, 5.8, 5.8, 5.8, 5.8, 5.8, 5.8, 5.9, 5.9, 5.9, 6.0, 6.0, 6.0, 6.0, 6.0, 6.0, 6.1, 6.1, 6.1, 6.1, 6.1, 6.1, 6.2, 6.2, 6.2, 6.2, 6.3, 6.3, 6.3, 6.3, 6.3, 6.3, 6.3, 6.3, 6.3, 6.4, 6.4, 6.4, 6.4, 6.4, 6.4, 6.4, 6.5, 6.5, 6.5, 6.5, 6.5, 6.6, 6.6, 6.7, 6.7, 6.7, 6.7, 6.7, 6.7, 6.7, 6.7, 6.8, 6.8, 6.8, 6.9, 6.9, 6.9, 6.9, 7.0, 7.1, 7.2, 7.2, 7.2, 7.3, 7.4, 7.6, 7.7, 7.7, 7.7, 7.7, 7.9]\n"
          ]
        }
      ]
    },
    {
      "cell_type": "code",
      "source": [
        "# find the median of the list by averaging the two middle values (75th and 76th values)\n",
        "# this means we need to use the indices 74 and 75\n",
        "sepal_lengths_median = (sepal_lengths[74] + sepal_lengths[75]) / 2\n",
        "print(\"The median is:\", sepal_lengths_median)"
      ],
      "metadata": {
        "colab": {
          "base_uri": "https://localhost:8080/"
        },
        "id": "wxlwPUqYTnqc",
        "outputId": "fc043315-d1d4-4089-8bb1-34874eed4f3c"
      },
      "execution_count": null,
      "outputs": [
        {
          "output_type": "stream",
          "name": "stdout",
          "text": [
            "The median is: 5.8\n"
          ]
        }
      ]
    },
    {
      "cell_type": "code",
      "source": [
        "# use the min and max functions to get the minimum and maximum values of the list\n",
        "sepal_lengths_min = min(sepal_lengths)\n",
        "sepal_lengths_max = max(sepal_lengths)\n",
        "print(\"The minimum is:\", sepal_lengths_min)\n",
        "print(\"The maximum is:\", sepal_lengths_max)"
      ],
      "metadata": {
        "colab": {
          "base_uri": "https://localhost:8080/"
        },
        "id": "q7RGRQKfUVWt",
        "outputId": "99d8085c-5227-46d2-e017-98f8a06a4956"
      },
      "execution_count": null,
      "outputs": [
        {
          "output_type": "stream",
          "name": "stdout",
          "text": [
            "The minimum is: 4.3\n",
            "The maximum is: 7.9\n"
          ]
        }
      ]
    },
    {
      "cell_type": "code",
      "source": [
        "total = 0\n",
        "# loop through all the values\n",
        "for length in sepal_lengths:\n",
        "  # if the value is betwen 5 and 6\n",
        "  if length > 5 and length < 6:\n",
        "    # increase the total by one\n",
        "    total = total + 1\n",
        "print(total)"
      ],
      "metadata": {
        "colab": {
          "base_uri": "https://localhost:8080/"
        },
        "id": "t-To7sl1VMCZ",
        "outputId": "3a9558b8-e18f-49fb-ada6-c7cdb9c1fb5b"
      },
      "execution_count": null,
      "outputs": [
        {
          "output_type": "stream",
          "name": "stdout",
          "text": [
            "51\n"
          ]
        }
      ]
    },
    {
      "cell_type": "code",
      "source": [],
      "metadata": {
        "id": "tnN5gXSgWBX_"
      },
      "execution_count": null,
      "outputs": []
    }
  ]
}