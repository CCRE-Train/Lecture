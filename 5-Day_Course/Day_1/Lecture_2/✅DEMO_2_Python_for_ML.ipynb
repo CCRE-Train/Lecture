{
  "nbformat": 4,
  "nbformat_minor": 0,
  "metadata": {
    "colab": {
      "provenance": []
    },
    "kernelspec": {
      "name": "python3",
      "display_name": "Python 3"
    },
    "language_info": {
      "name": "python"
    }
  },
  "cells": [
    {
      "cell_type": "code",
      "source": [
        "# Imports\n",
        "import pandas as pd\n",
        "from statistics import pstdev, mean\n",
        "import matplotlib.pyplot as plt"
      ],
      "metadata": {
        "id": "k9JIAFDBA09N"
      },
      "execution_count": null,
      "outputs": []
    },
    {
      "cell_type": "code",
      "source": [
        "# Download and unzip the dataset\n",
        "!wget https://archive.ics.uci.edu/static/public/53/iris.zip\n",
        "!unzip iris.zip"
      ],
      "metadata": {
        "id": "XXRislGFA10D",
        "colab": {
          "base_uri": "https://localhost:8080/"
        },
        "outputId": "d19dc8d9-e096-4018-f92a-7584c6a54cc1"
      },
      "execution_count": null,
      "outputs": [
        {
          "output_type": "stream",
          "name": "stdout",
          "text": [
            "--2024-06-14 17:11:12--  https://archive.ics.uci.edu/static/public/53/iris.zip\n",
            "Resolving archive.ics.uci.edu (archive.ics.uci.edu)... 128.195.10.252\n",
            "Connecting to archive.ics.uci.edu (archive.ics.uci.edu)|128.195.10.252|:443... connected.\n",
            "HTTP request sent, awaiting response... 200 OK\n",
            "Length: unspecified\n",
            "Saving to: ‘iris.zip’\n",
            "\n",
            "iris.zip                [ <=>                ]   3.65K  --.-KB/s    in 0s      \n",
            "\n",
            "2024-06-14 17:11:12 (526 MB/s) - ‘iris.zip’ saved [3738]\n",
            "\n",
            "Archive:  iris.zip\n",
            "  inflating: Index                   \n",
            "  inflating: bezdekIris.data         \n",
            "  inflating: iris.data               \n",
            "  inflating: iris.names              \n"
          ]
        }
      ]
    },
    {
      "cell_type": "code",
      "source": [
        "# Read the dataset using open, readlines, and close\n",
        "opened_dataset = open(\"/content/iris.data\", \"r\")\n",
        "iris_lines = opened_dataset.readlines()\n",
        "opened_dataset.close()\n",
        "print(iris_lines)"
      ],
      "metadata": {
        "id": "vq9ezpMIA4v5",
        "colab": {
          "base_uri": "https://localhost:8080/"
        },
        "outputId": "6641da52-89e1-4ac8-f25e-73f118586769"
      },
      "execution_count": null,
      "outputs": [
        {
          "output_type": "stream",
          "name": "stdout",
          "text": [
            "['5.1,3.5,1.4,0.2,Iris-setosa\\n', '4.9,3.0,1.4,0.2,Iris-setosa\\n', '4.7,3.2,1.3,0.2,Iris-setosa\\n', '4.6,3.1,1.5,0.2,Iris-setosa\\n', '5.0,3.6,1.4,0.2,Iris-setosa\\n', '5.4,3.9,1.7,0.4,Iris-setosa\\n', '4.6,3.4,1.4,0.3,Iris-setosa\\n', '5.0,3.4,1.5,0.2,Iris-setosa\\n', '4.4,2.9,1.4,0.2,Iris-setosa\\n', '4.9,3.1,1.5,0.1,Iris-setosa\\n', '5.4,3.7,1.5,0.2,Iris-setosa\\n', '4.8,3.4,1.6,0.2,Iris-setosa\\n', '4.8,3.0,1.4,0.1,Iris-setosa\\n', '4.3,3.0,1.1,0.1,Iris-setosa\\n', '5.8,4.0,1.2,0.2,Iris-setosa\\n', '5.7,4.4,1.5,0.4,Iris-setosa\\n', '5.4,3.9,1.3,0.4,Iris-setosa\\n', '5.1,3.5,1.4,0.3,Iris-setosa\\n', '5.7,3.8,1.7,0.3,Iris-setosa\\n', '5.1,3.8,1.5,0.3,Iris-setosa\\n', '5.4,3.4,1.7,0.2,Iris-setosa\\n', '5.1,3.7,1.5,0.4,Iris-setosa\\n', '4.6,3.6,1.0,0.2,Iris-setosa\\n', '5.1,3.3,1.7,0.5,Iris-setosa\\n', '4.8,3.4,1.9,0.2,Iris-setosa\\n', '5.0,3.0,1.6,0.2,Iris-setosa\\n', '5.0,3.4,1.6,0.4,Iris-setosa\\n', '5.2,3.5,1.5,0.2,Iris-setosa\\n', '5.2,3.4,1.4,0.2,Iris-setosa\\n', '4.7,3.2,1.6,0.2,Iris-setosa\\n', '4.8,3.1,1.6,0.2,Iris-setosa\\n', '5.4,3.4,1.5,0.4,Iris-setosa\\n', '5.2,4.1,1.5,0.1,Iris-setosa\\n', '5.5,4.2,1.4,0.2,Iris-setosa\\n', '4.9,3.1,1.5,0.1,Iris-setosa\\n', '5.0,3.2,1.2,0.2,Iris-setosa\\n', '5.5,3.5,1.3,0.2,Iris-setosa\\n', '4.9,3.1,1.5,0.1,Iris-setosa\\n', '4.4,3.0,1.3,0.2,Iris-setosa\\n', '5.1,3.4,1.5,0.2,Iris-setosa\\n', '5.0,3.5,1.3,0.3,Iris-setosa\\n', '4.5,2.3,1.3,0.3,Iris-setosa\\n', '4.4,3.2,1.3,0.2,Iris-setosa\\n', '5.0,3.5,1.6,0.6,Iris-setosa\\n', '5.1,3.8,1.9,0.4,Iris-setosa\\n', '4.8,3.0,1.4,0.3,Iris-setosa\\n', '5.1,3.8,1.6,0.2,Iris-setosa\\n', '4.6,3.2,1.4,0.2,Iris-setosa\\n', '5.3,3.7,1.5,0.2,Iris-setosa\\n', '5.0,3.3,1.4,0.2,Iris-setosa\\n', '7.0,3.2,4.7,1.4,Iris-versicolor\\n', '6.4,3.2,4.5,1.5,Iris-versicolor\\n', '6.9,3.1,4.9,1.5,Iris-versicolor\\n', '5.5,2.3,4.0,1.3,Iris-versicolor\\n', '6.5,2.8,4.6,1.5,Iris-versicolor\\n', '5.7,2.8,4.5,1.3,Iris-versicolor\\n', '6.3,3.3,4.7,1.6,Iris-versicolor\\n', '4.9,2.4,3.3,1.0,Iris-versicolor\\n', '6.6,2.9,4.6,1.3,Iris-versicolor\\n', '5.2,2.7,3.9,1.4,Iris-versicolor\\n', '5.0,2.0,3.5,1.0,Iris-versicolor\\n', '5.9,3.0,4.2,1.5,Iris-versicolor\\n', '6.0,2.2,4.0,1.0,Iris-versicolor\\n', '6.1,2.9,4.7,1.4,Iris-versicolor\\n', '5.6,2.9,3.6,1.3,Iris-versicolor\\n', '6.7,3.1,4.4,1.4,Iris-versicolor\\n', '5.6,3.0,4.5,1.5,Iris-versicolor\\n', '5.8,2.7,4.1,1.0,Iris-versicolor\\n', '6.2,2.2,4.5,1.5,Iris-versicolor\\n', '5.6,2.5,3.9,1.1,Iris-versicolor\\n', '5.9,3.2,4.8,1.8,Iris-versicolor\\n', '6.1,2.8,4.0,1.3,Iris-versicolor\\n', '6.3,2.5,4.9,1.5,Iris-versicolor\\n', '6.1,2.8,4.7,1.2,Iris-versicolor\\n', '6.4,2.9,4.3,1.3,Iris-versicolor\\n', '6.6,3.0,4.4,1.4,Iris-versicolor\\n', '6.8,2.8,4.8,1.4,Iris-versicolor\\n', '6.7,3.0,5.0,1.7,Iris-versicolor\\n', '6.0,2.9,4.5,1.5,Iris-versicolor\\n', '5.7,2.6,3.5,1.0,Iris-versicolor\\n', '5.5,2.4,3.8,1.1,Iris-versicolor\\n', '5.5,2.4,3.7,1.0,Iris-versicolor\\n', '5.8,2.7,3.9,1.2,Iris-versicolor\\n', '6.0,2.7,5.1,1.6,Iris-versicolor\\n', '5.4,3.0,4.5,1.5,Iris-versicolor\\n', '6.0,3.4,4.5,1.6,Iris-versicolor\\n', '6.7,3.1,4.7,1.5,Iris-versicolor\\n', '6.3,2.3,4.4,1.3,Iris-versicolor\\n', '5.6,3.0,4.1,1.3,Iris-versicolor\\n', '5.5,2.5,4.0,1.3,Iris-versicolor\\n', '5.5,2.6,4.4,1.2,Iris-versicolor\\n', '6.1,3.0,4.6,1.4,Iris-versicolor\\n', '5.8,2.6,4.0,1.2,Iris-versicolor\\n', '5.0,2.3,3.3,1.0,Iris-versicolor\\n', '5.6,2.7,4.2,1.3,Iris-versicolor\\n', '5.7,3.0,4.2,1.2,Iris-versicolor\\n', '5.7,2.9,4.2,1.3,Iris-versicolor\\n', '6.2,2.9,4.3,1.3,Iris-versicolor\\n', '5.1,2.5,3.0,1.1,Iris-versicolor\\n', '5.7,2.8,4.1,1.3,Iris-versicolor\\n', '6.3,3.3,6.0,2.5,Iris-virginica\\n', '5.8,2.7,5.1,1.9,Iris-virginica\\n', '7.1,3.0,5.9,2.1,Iris-virginica\\n', '6.3,2.9,5.6,1.8,Iris-virginica\\n', '6.5,3.0,5.8,2.2,Iris-virginica\\n', '7.6,3.0,6.6,2.1,Iris-virginica\\n', '4.9,2.5,4.5,1.7,Iris-virginica\\n', '7.3,2.9,6.3,1.8,Iris-virginica\\n', '6.7,2.5,5.8,1.8,Iris-virginica\\n', '7.2,3.6,6.1,2.5,Iris-virginica\\n', '6.5,3.2,5.1,2.0,Iris-virginica\\n', '6.4,2.7,5.3,1.9,Iris-virginica\\n', '6.8,3.0,5.5,2.1,Iris-virginica\\n', '5.7,2.5,5.0,2.0,Iris-virginica\\n', '5.8,2.8,5.1,2.4,Iris-virginica\\n', '6.4,3.2,5.3,2.3,Iris-virginica\\n', '6.5,3.0,5.5,1.8,Iris-virginica\\n', '7.7,3.8,6.7,2.2,Iris-virginica\\n', '7.7,2.6,6.9,2.3,Iris-virginica\\n', '6.0,2.2,5.0,1.5,Iris-virginica\\n', '6.9,3.2,5.7,2.3,Iris-virginica\\n', '5.6,2.8,4.9,2.0,Iris-virginica\\n', '7.7,2.8,6.7,2.0,Iris-virginica\\n', '6.3,2.7,4.9,1.8,Iris-virginica\\n', '6.7,3.3,5.7,2.1,Iris-virginica\\n', '7.2,3.2,6.0,1.8,Iris-virginica\\n', '6.2,2.8,4.8,1.8,Iris-virginica\\n', '6.1,3.0,4.9,1.8,Iris-virginica\\n', '6.4,2.8,5.6,2.1,Iris-virginica\\n', '7.2,3.0,5.8,1.6,Iris-virginica\\n', '7.4,2.8,6.1,1.9,Iris-virginica\\n', '7.9,3.8,6.4,2.0,Iris-virginica\\n', '6.4,2.8,5.6,2.2,Iris-virginica\\n', '6.3,2.8,5.1,1.5,Iris-virginica\\n', '6.1,2.6,5.6,1.4,Iris-virginica\\n', '7.7,3.0,6.1,2.3,Iris-virginica\\n', '6.3,3.4,5.6,2.4,Iris-virginica\\n', '6.4,3.1,5.5,1.8,Iris-virginica\\n', '6.0,3.0,4.8,1.8,Iris-virginica\\n', '6.9,3.1,5.4,2.1,Iris-virginica\\n', '6.7,3.1,5.6,2.4,Iris-virginica\\n', '6.9,3.1,5.1,2.3,Iris-virginica\\n', '5.8,2.7,5.1,1.9,Iris-virginica\\n', '6.8,3.2,5.9,2.3,Iris-virginica\\n', '6.7,3.3,5.7,2.5,Iris-virginica\\n', '6.7,3.0,5.2,2.3,Iris-virginica\\n', '6.3,2.5,5.0,1.9,Iris-virginica\\n', '6.5,3.0,5.2,2.0,Iris-virginica\\n', '6.2,3.4,5.4,2.3,Iris-virginica\\n', '5.9,3.0,5.1,1.8,Iris-virginica\\n', '\\n']\n"
          ]
        }
      ]
    },
    {
      "cell_type": "code",
      "source": [
        "# Remove the last empty line if it exists\n",
        "iris_lines.pop(-1)"
      ],
      "metadata": {
        "id": "uQc5mpakEBc4"
      },
      "execution_count": null,
      "outputs": []
    },
    {
      "cell_type": "code",
      "source": [
        "# Split lines into columns\n",
        "split_lines = [line.split(',') for line in iris_lines]"
      ],
      "metadata": {
        "id": "OSMQOtOfEG_x"
      },
      "execution_count": null,
      "outputs": []
    },
    {
      "cell_type": "code",
      "source": [
        "# Create a DataFrame from the split lines\n",
        "iris_df = pd.DataFrame(split_lines, columns=[\"sepal length\", \"sepal width\", \"petal length\", \"petal width\", 'class'])\n",
        "iris_df = iris_df.apply(pd.to_numeric, errors='ignore')"
      ],
      "metadata": {
        "id": "TJ0D6bpCEIhq"
      },
      "execution_count": null,
      "outputs": []
    },
    {
      "cell_type": "code",
      "source": [
        "# Read the dataset into a pandas DataFrame\n",
        "iris_df = pd.read_csv('/content/iris.data', header=None)\n",
        "print(iris_df)\n",
        "\n",
        "# Drop the last empty row\n",
        "iris_df.dropna(inplace=True)"
      ],
      "metadata": {
        "colab": {
          "base_uri": "https://localhost:8080/",
          "height": 681
        },
        "id": "Z0Kxxy3Xu_Lh",
        "outputId": "e9805eb3-be3e-4583-b042-7735047432c9"
      },
      "execution_count": null,
      "outputs": [
        {
          "output_type": "stream",
          "name": "stdout",
          "text": [
            "       0    1    2    3               4\n",
            "0    5.1  3.5  1.4  0.2     Iris-setosa\n",
            "1    4.9  3.0  1.4  0.2     Iris-setosa\n",
            "2    4.7  3.2  1.3  0.2     Iris-setosa\n",
            "3    4.6  3.1  1.5  0.2     Iris-setosa\n",
            "4    5.0  3.6  1.4  0.2     Iris-setosa\n",
            "..   ...  ...  ...  ...             ...\n",
            "145  6.7  3.0  5.2  2.3  Iris-virginica\n",
            "146  6.3  2.5  5.0  1.9  Iris-virginica\n",
            "147  6.5  3.0  5.2  2.0  Iris-virginica\n",
            "148  6.2  3.4  5.4  2.3  Iris-virginica\n",
            "149  5.9  3.0  5.1  1.8  Iris-virginica\n",
            "\n",
            "[150 rows x 5 columns]\n"
          ]
        },
        {
          "output_type": "execute_result",
          "data": {
            "text/plain": [
              "     sepal length  sepal width  petal length  petal width           class\n",
              "0             5.1          3.5           1.4          0.2     Iris-setosa\n",
              "1             4.9          3.0           1.4          0.2     Iris-setosa\n",
              "2             4.7          3.2           1.3          0.2     Iris-setosa\n",
              "3             4.6          3.1           1.5          0.2     Iris-setosa\n",
              "4             5.0          3.6           1.4          0.2     Iris-setosa\n",
              "..            ...          ...           ...          ...             ...\n",
              "145           6.7          3.0           5.2          2.3  Iris-virginica\n",
              "146           6.3          2.5           5.0          1.9  Iris-virginica\n",
              "147           6.5          3.0           5.2          2.0  Iris-virginica\n",
              "148           6.2          3.4           5.4          2.3  Iris-virginica\n",
              "149           5.9          3.0           5.1          1.8  Iris-virginica\n",
              "\n",
              "[150 rows x 5 columns]"
            ],
            "text/html": [
              "\n",
              "  <div id=\"df-1d6b4831-d636-443c-be7b-5ccab2abc364\" class=\"colab-df-container\">\n",
              "    <div>\n",
              "<style scoped>\n",
              "    .dataframe tbody tr th:only-of-type {\n",
              "        vertical-align: middle;\n",
              "    }\n",
              "\n",
              "    .dataframe tbody tr th {\n",
              "        vertical-align: top;\n",
              "    }\n",
              "\n",
              "    .dataframe thead th {\n",
              "        text-align: right;\n",
              "    }\n",
              "</style>\n",
              "<table border=\"1\" class=\"dataframe\">\n",
              "  <thead>\n",
              "    <tr style=\"text-align: right;\">\n",
              "      <th></th>\n",
              "      <th>sepal length</th>\n",
              "      <th>sepal width</th>\n",
              "      <th>petal length</th>\n",
              "      <th>petal width</th>\n",
              "      <th>class</th>\n",
              "    </tr>\n",
              "  </thead>\n",
              "  <tbody>\n",
              "    <tr>\n",
              "      <th>0</th>\n",
              "      <td>5.1</td>\n",
              "      <td>3.5</td>\n",
              "      <td>1.4</td>\n",
              "      <td>0.2</td>\n",
              "      <td>Iris-setosa</td>\n",
              "    </tr>\n",
              "    <tr>\n",
              "      <th>1</th>\n",
              "      <td>4.9</td>\n",
              "      <td>3.0</td>\n",
              "      <td>1.4</td>\n",
              "      <td>0.2</td>\n",
              "      <td>Iris-setosa</td>\n",
              "    </tr>\n",
              "    <tr>\n",
              "      <th>2</th>\n",
              "      <td>4.7</td>\n",
              "      <td>3.2</td>\n",
              "      <td>1.3</td>\n",
              "      <td>0.2</td>\n",
              "      <td>Iris-setosa</td>\n",
              "    </tr>\n",
              "    <tr>\n",
              "      <th>3</th>\n",
              "      <td>4.6</td>\n",
              "      <td>3.1</td>\n",
              "      <td>1.5</td>\n",
              "      <td>0.2</td>\n",
              "      <td>Iris-setosa</td>\n",
              "    </tr>\n",
              "    <tr>\n",
              "      <th>4</th>\n",
              "      <td>5.0</td>\n",
              "      <td>3.6</td>\n",
              "      <td>1.4</td>\n",
              "      <td>0.2</td>\n",
              "      <td>Iris-setosa</td>\n",
              "    </tr>\n",
              "    <tr>\n",
              "      <th>...</th>\n",
              "      <td>...</td>\n",
              "      <td>...</td>\n",
              "      <td>...</td>\n",
              "      <td>...</td>\n",
              "      <td>...</td>\n",
              "    </tr>\n",
              "    <tr>\n",
              "      <th>145</th>\n",
              "      <td>6.7</td>\n",
              "      <td>3.0</td>\n",
              "      <td>5.2</td>\n",
              "      <td>2.3</td>\n",
              "      <td>Iris-virginica</td>\n",
              "    </tr>\n",
              "    <tr>\n",
              "      <th>146</th>\n",
              "      <td>6.3</td>\n",
              "      <td>2.5</td>\n",
              "      <td>5.0</td>\n",
              "      <td>1.9</td>\n",
              "      <td>Iris-virginica</td>\n",
              "    </tr>\n",
              "    <tr>\n",
              "      <th>147</th>\n",
              "      <td>6.5</td>\n",
              "      <td>3.0</td>\n",
              "      <td>5.2</td>\n",
              "      <td>2.0</td>\n",
              "      <td>Iris-virginica</td>\n",
              "    </tr>\n",
              "    <tr>\n",
              "      <th>148</th>\n",
              "      <td>6.2</td>\n",
              "      <td>3.4</td>\n",
              "      <td>5.4</td>\n",
              "      <td>2.3</td>\n",
              "      <td>Iris-virginica</td>\n",
              "    </tr>\n",
              "    <tr>\n",
              "      <th>149</th>\n",
              "      <td>5.9</td>\n",
              "      <td>3.0</td>\n",
              "      <td>5.1</td>\n",
              "      <td>1.8</td>\n",
              "      <td>Iris-virginica</td>\n",
              "    </tr>\n",
              "  </tbody>\n",
              "</table>\n",
              "<p>150 rows × 5 columns</p>\n",
              "</div>\n",
              "    <div class=\"colab-df-buttons\">\n",
              "\n",
              "  <div class=\"colab-df-container\">\n",
              "    <button class=\"colab-df-convert\" onclick=\"convertToInteractive('df-1d6b4831-d636-443c-be7b-5ccab2abc364')\"\n",
              "            title=\"Convert this dataframe to an interactive table.\"\n",
              "            style=\"display:none;\">\n",
              "\n",
              "  <svg xmlns=\"http://www.w3.org/2000/svg\" height=\"24px\" viewBox=\"0 -960 960 960\">\n",
              "    <path d=\"M120-120v-720h720v720H120Zm60-500h600v-160H180v160Zm220 220h160v-160H400v160Zm0 220h160v-160H400v160ZM180-400h160v-160H180v160Zm440 0h160v-160H620v160ZM180-180h160v-160H180v160Zm440 0h160v-160H620v160Z\"/>\n",
              "  </svg>\n",
              "    </button>\n",
              "\n",
              "  <style>\n",
              "    .colab-df-container {\n",
              "      display:flex;\n",
              "      gap: 12px;\n",
              "    }\n",
              "\n",
              "    .colab-df-convert {\n",
              "      background-color: #E8F0FE;\n",
              "      border: none;\n",
              "      border-radius: 50%;\n",
              "      cursor: pointer;\n",
              "      display: none;\n",
              "      fill: #1967D2;\n",
              "      height: 32px;\n",
              "      padding: 0 0 0 0;\n",
              "      width: 32px;\n",
              "    }\n",
              "\n",
              "    .colab-df-convert:hover {\n",
              "      background-color: #E2EBFA;\n",
              "      box-shadow: 0px 1px 2px rgba(60, 64, 67, 0.3), 0px 1px 3px 1px rgba(60, 64, 67, 0.15);\n",
              "      fill: #174EA6;\n",
              "    }\n",
              "\n",
              "    .colab-df-buttons div {\n",
              "      margin-bottom: 4px;\n",
              "    }\n",
              "\n",
              "    [theme=dark] .colab-df-convert {\n",
              "      background-color: #3B4455;\n",
              "      fill: #D2E3FC;\n",
              "    }\n",
              "\n",
              "    [theme=dark] .colab-df-convert:hover {\n",
              "      background-color: #434B5C;\n",
              "      box-shadow: 0px 1px 3px 1px rgba(0, 0, 0, 0.15);\n",
              "      filter: drop-shadow(0px 1px 2px rgba(0, 0, 0, 0.3));\n",
              "      fill: #FFFFFF;\n",
              "    }\n",
              "  </style>\n",
              "\n",
              "    <script>\n",
              "      const buttonEl =\n",
              "        document.querySelector('#df-1d6b4831-d636-443c-be7b-5ccab2abc364 button.colab-df-convert');\n",
              "      buttonEl.style.display =\n",
              "        google.colab.kernel.accessAllowed ? 'block' : 'none';\n",
              "\n",
              "      async function convertToInteractive(key) {\n",
              "        const element = document.querySelector('#df-1d6b4831-d636-443c-be7b-5ccab2abc364');\n",
              "        const dataTable =\n",
              "          await google.colab.kernel.invokeFunction('convertToInteractive',\n",
              "                                                    [key], {});\n",
              "        if (!dataTable) return;\n",
              "\n",
              "        const docLinkHtml = 'Like what you see? Visit the ' +\n",
              "          '<a target=\"_blank\" href=https://colab.research.google.com/notebooks/data_table.ipynb>data table notebook</a>'\n",
              "          + ' to learn more about interactive tables.';\n",
              "        element.innerHTML = '';\n",
              "        dataTable['output_type'] = 'display_data';\n",
              "        await google.colab.output.renderOutput(dataTable, element);\n",
              "        const docLink = document.createElement('div');\n",
              "        docLink.innerHTML = docLinkHtml;\n",
              "        element.appendChild(docLink);\n",
              "      }\n",
              "    </script>\n",
              "  </div>\n",
              "\n",
              "\n",
              "<div id=\"df-10ec0627-3664-426e-b488-48a2694274b3\">\n",
              "  <button class=\"colab-df-quickchart\" onclick=\"quickchart('df-10ec0627-3664-426e-b488-48a2694274b3')\"\n",
              "            title=\"Suggest charts\"\n",
              "            style=\"display:none;\">\n",
              "\n",
              "<svg xmlns=\"http://www.w3.org/2000/svg\" height=\"24px\"viewBox=\"0 0 24 24\"\n",
              "     width=\"24px\">\n",
              "    <g>\n",
              "        <path d=\"M19 3H5c-1.1 0-2 .9-2 2v14c0 1.1.9 2 2 2h14c1.1 0 2-.9 2-2V5c0-1.1-.9-2-2-2zM9 17H7v-7h2v7zm4 0h-2V7h2v10zm4 0h-2v-4h2v4z\"/>\n",
              "    </g>\n",
              "</svg>\n",
              "  </button>\n",
              "\n",
              "<style>\n",
              "  .colab-df-quickchart {\n",
              "      --bg-color: #E8F0FE;\n",
              "      --fill-color: #1967D2;\n",
              "      --hover-bg-color: #E2EBFA;\n",
              "      --hover-fill-color: #174EA6;\n",
              "      --disabled-fill-color: #AAA;\n",
              "      --disabled-bg-color: #DDD;\n",
              "  }\n",
              "\n",
              "  [theme=dark] .colab-df-quickchart {\n",
              "      --bg-color: #3B4455;\n",
              "      --fill-color: #D2E3FC;\n",
              "      --hover-bg-color: #434B5C;\n",
              "      --hover-fill-color: #FFFFFF;\n",
              "      --disabled-bg-color: #3B4455;\n",
              "      --disabled-fill-color: #666;\n",
              "  }\n",
              "\n",
              "  .colab-df-quickchart {\n",
              "    background-color: var(--bg-color);\n",
              "    border: none;\n",
              "    border-radius: 50%;\n",
              "    cursor: pointer;\n",
              "    display: none;\n",
              "    fill: var(--fill-color);\n",
              "    height: 32px;\n",
              "    padding: 0;\n",
              "    width: 32px;\n",
              "  }\n",
              "\n",
              "  .colab-df-quickchart:hover {\n",
              "    background-color: var(--hover-bg-color);\n",
              "    box-shadow: 0 1px 2px rgba(60, 64, 67, 0.3), 0 1px 3px 1px rgba(60, 64, 67, 0.15);\n",
              "    fill: var(--button-hover-fill-color);\n",
              "  }\n",
              "\n",
              "  .colab-df-quickchart-complete:disabled,\n",
              "  .colab-df-quickchart-complete:disabled:hover {\n",
              "    background-color: var(--disabled-bg-color);\n",
              "    fill: var(--disabled-fill-color);\n",
              "    box-shadow: none;\n",
              "  }\n",
              "\n",
              "  .colab-df-spinner {\n",
              "    border: 2px solid var(--fill-color);\n",
              "    border-color: transparent;\n",
              "    border-bottom-color: var(--fill-color);\n",
              "    animation:\n",
              "      spin 1s steps(1) infinite;\n",
              "  }\n",
              "\n",
              "  @keyframes spin {\n",
              "    0% {\n",
              "      border-color: transparent;\n",
              "      border-bottom-color: var(--fill-color);\n",
              "      border-left-color: var(--fill-color);\n",
              "    }\n",
              "    20% {\n",
              "      border-color: transparent;\n",
              "      border-left-color: var(--fill-color);\n",
              "      border-top-color: var(--fill-color);\n",
              "    }\n",
              "    30% {\n",
              "      border-color: transparent;\n",
              "      border-left-color: var(--fill-color);\n",
              "      border-top-color: var(--fill-color);\n",
              "      border-right-color: var(--fill-color);\n",
              "    }\n",
              "    40% {\n",
              "      border-color: transparent;\n",
              "      border-right-color: var(--fill-color);\n",
              "      border-top-color: var(--fill-color);\n",
              "    }\n",
              "    60% {\n",
              "      border-color: transparent;\n",
              "      border-right-color: var(--fill-color);\n",
              "    }\n",
              "    80% {\n",
              "      border-color: transparent;\n",
              "      border-right-color: var(--fill-color);\n",
              "      border-bottom-color: var(--fill-color);\n",
              "    }\n",
              "    90% {\n",
              "      border-color: transparent;\n",
              "      border-bottom-color: var(--fill-color);\n",
              "    }\n",
              "  }\n",
              "</style>\n",
              "\n",
              "  <script>\n",
              "    async function quickchart(key) {\n",
              "      const quickchartButtonEl =\n",
              "        document.querySelector('#' + key + ' button');\n",
              "      quickchartButtonEl.disabled = true;  // To prevent multiple clicks.\n",
              "      quickchartButtonEl.classList.add('colab-df-spinner');\n",
              "      try {\n",
              "        const charts = await google.colab.kernel.invokeFunction(\n",
              "            'suggestCharts', [key], {});\n",
              "      } catch (error) {\n",
              "        console.error('Error during call to suggestCharts:', error);\n",
              "      }\n",
              "      quickchartButtonEl.classList.remove('colab-df-spinner');\n",
              "      quickchartButtonEl.classList.add('colab-df-quickchart-complete');\n",
              "    }\n",
              "    (() => {\n",
              "      let quickchartButtonEl =\n",
              "        document.querySelector('#df-10ec0627-3664-426e-b488-48a2694274b3 button');\n",
              "      quickchartButtonEl.style.display =\n",
              "        google.colab.kernel.accessAllowed ? 'block' : 'none';\n",
              "    })();\n",
              "  </script>\n",
              "</div>\n",
              "\n",
              "    </div>\n",
              "  </div>\n"
            ],
            "application/vnd.google.colaboratory.intrinsic+json": {
              "type": "dataframe",
              "summary": "{\n  \"name\": \"iris_df\",\n  \"rows\": 150,\n  \"fields\": [\n    {\n      \"column\": \"sepal length\",\n      \"properties\": {\n        \"dtype\": \"number\",\n        \"std\": 0.828066127977863,\n        \"min\": 4.3,\n        \"max\": 7.9,\n        \"num_unique_values\": 35,\n        \"samples\": [\n          6.2,\n          4.5,\n          5.6\n        ],\n        \"semantic_type\": \"\",\n        \"description\": \"\"\n      }\n    },\n    {\n      \"column\": \"sepal width\",\n      \"properties\": {\n        \"dtype\": \"number\",\n        \"std\": 0.4335943113621737,\n        \"min\": 2.0,\n        \"max\": 4.4,\n        \"num_unique_values\": 23,\n        \"samples\": [\n          2.3,\n          4.0,\n          3.5\n        ],\n        \"semantic_type\": \"\",\n        \"description\": \"\"\n      }\n    },\n    {\n      \"column\": \"petal length\",\n      \"properties\": {\n        \"dtype\": \"number\",\n        \"std\": 1.7644204199522626,\n        \"min\": 1.0,\n        \"max\": 6.9,\n        \"num_unique_values\": 43,\n        \"samples\": [\n          6.7,\n          3.8,\n          3.7\n        ],\n        \"semantic_type\": \"\",\n        \"description\": \"\"\n      }\n    },\n    {\n      \"column\": \"petal width\",\n      \"properties\": {\n        \"dtype\": \"number\",\n        \"std\": 0.7631607417008411,\n        \"min\": 0.1,\n        \"max\": 2.5,\n        \"num_unique_values\": 22,\n        \"samples\": [\n          0.2,\n          1.2,\n          1.3\n        ],\n        \"semantic_type\": \"\",\n        \"description\": \"\"\n      }\n    },\n    {\n      \"column\": \"class\",\n      \"properties\": {\n        \"dtype\": \"category\",\n        \"num_unique_values\": 3,\n        \"samples\": [\n          \"Iris-setosa\",\n          \"Iris-versicolor\",\n          \"Iris-virginica\"\n        ],\n        \"semantic_type\": \"\",\n        \"description\": \"\"\n      }\n    }\n  ]\n}"
            }
          },
          "metadata": {},
          "execution_count": 23
        }
      ]
    },
    {
      "cell_type": "code",
      "source": [
        "# Extract features\n",
        "features = iris_df.iloc[:, :4]"
      ],
      "metadata": {
        "id": "GyJHRRDEEJ0W",
        "colab": {
          "base_uri": "https://localhost:8080/"
        },
        "outputId": "cec00861-367c-40b9-94e4-212c4c043c8d"
      },
      "execution_count": null,
      "outputs": [
        {
          "output_type": "stream",
          "name": "stdout",
          "text": [
            "<class 'pandas.core.frame.DataFrame'>\n"
          ]
        }
      ]
    },
    {
      "cell_type": "code",
      "source": [
        "# Calculate standard deviation for each feature\n",
        "standard_dev = [pstdev(features[col]) for col in features]\n",
        "print(standard_dev)"
      ],
      "metadata": {
        "colab": {
          "base_uri": "https://localhost:8080/"
        },
        "id": "S-oaiuF9B2qm",
        "outputId": "f3784886-57a9-497c-f4a5-291d256b4e27"
      },
      "execution_count": null,
      "outputs": [
        {
          "output_type": "stream",
          "name": "stdout",
          "text": [
            "[0.8253012917851409, 0.4321465800705435, 1.7585291834055212, 0.7606126185881718]\n"
          ]
        }
      ]
    },
    {
      "cell_type": "code",
      "source": [
        "# Calculate maximum values for each feature\n",
        "max_values = [features[col].max() for col in features]\n",
        "print(max_values)"
      ],
      "metadata": {
        "colab": {
          "base_uri": "https://localhost:8080/"
        },
        "id": "1y6smKfwB3jA",
        "outputId": "47b088f5-c88a-4532-f99a-c5a98c134a0a"
      },
      "execution_count": null,
      "outputs": [
        {
          "output_type": "stream",
          "name": "stdout",
          "text": [
            "[7.9, 4.4, 6.9, 2.5]\n"
          ]
        }
      ]
    },
    {
      "cell_type": "code",
      "source": [
        "# Scale the feature values\n",
        "scaled_values = pd.DataFrame(features.div(max_values))\n",
        "print(scaled_values)"
      ],
      "metadata": {
        "colab": {
          "base_uri": "https://localhost:8080/"
        },
        "id": "ZGn8srlrB4W7",
        "outputId": "a0082a2c-c176-472a-e3e1-b502b46e62ba"
      },
      "execution_count": null,
      "outputs": [
        {
          "output_type": "stream",
          "name": "stdout",
          "text": [
            "            0         1         2     3\n",
            "0    0.645570  0.795455  0.202899  0.08\n",
            "1    0.620253  0.681818  0.202899  0.08\n",
            "2    0.594937  0.727273  0.188406  0.08\n",
            "3    0.582278  0.704545  0.217391  0.08\n",
            "4    0.632911  0.818182  0.202899  0.08\n",
            "..        ...       ...       ...   ...\n",
            "145  0.848101  0.681818  0.753623  0.92\n",
            "146  0.797468  0.568182  0.724638  0.76\n",
            "147  0.822785  0.681818  0.753623  0.80\n",
            "148  0.784810  0.772727  0.782609  0.92\n",
            "149  0.746835  0.681818  0.739130  0.72\n",
            "\n",
            "[150 rows x 4 columns]\n"
          ]
        }
      ]
    },
    {
      "cell_type": "code",
      "source": [
        "# Plot sepal_length vs sepal_width with color coding based on sepal_length standard deviation\n",
        "mean_sepal_length = mean(features[0])\n",
        "std_sepal_length = pstdev(features[0])\n",
        "\n",
        "colors = ['red' if abs(x - mean_sepal_length) > std_sepal_length else 'blue' for x in features[0]]\n",
        "\n",
        "plt.scatter(features[0], features[1], c=colors)\n",
        "plt.xlabel('Sepal Length')\n",
        "plt.ylabel('Sepal Width')\n",
        "plt.title('Sepal Length vs Sepal Width')\n",
        "\n",
        "# Write the plot to a file\n",
        "plt.savefig('/content/plot.png')\n",
        "\n",
        "plt.show()"
      ],
      "metadata": {
        "id": "C7XonfsZFDM_",
        "colab": {
          "base_uri": "https://localhost:8080/",
          "height": 472
        },
        "outputId": "003764e7-eb00-41c0-d0aa-bc947ce4665b"
      },
      "execution_count": null,
      "outputs": [
        {
          "output_type": "display_data",
          "data": {
            "text/plain": [
              "<Figure size 640x480 with 1 Axes>"
            ],
            "image/png": "[encoded data removed]"
          },
          "metadata": {}
        }
      ]
    },
    {
      "cell_type": "code",
      "source": [
        "# Save the stdev to a text file\n",
        "stdev_strings = [str(stdev) for stdev in standard_dev]\n",
        "big_stdev_string = \", \".join(stdev_strings)\n",
        "stdev_text = open(\"/content/stdevs.txt\", 'w')\n",
        "stdev_text.write(big_stdev_string)\n",
        "stdev_text.close()"
      ],
      "metadata": {
        "id": "Lpo2QKoUB5ko"
      },
      "execution_count": null,
      "outputs": []
    },
    {
      "cell_type": "code",
      "source": [
        "# Save the scaled features to a text file\n",
        "feature_strings = []\n",
        "\n",
        "for row in scaled_values.itertuples():\n",
        "  feature_string = str(row[1:])\n",
        "  feature_strings.append(feature_string[1:-1])\n",
        "\n",
        "feature_string = \"\\n\".join(feature_strings)\n",
        "\n",
        "feature_text = open(\"/content/features.txt\", 'w')\n",
        "feature_text.write(feature_string)\n",
        "feature_text.close()"
      ],
      "metadata": {
        "id": "WR1ZVUqMB6n6"
      },
      "execution_count": null,
      "outputs": []
    }
  ]
}