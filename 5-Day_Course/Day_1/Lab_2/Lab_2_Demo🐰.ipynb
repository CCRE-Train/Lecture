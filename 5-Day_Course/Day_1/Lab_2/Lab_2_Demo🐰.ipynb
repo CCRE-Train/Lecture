{
  "nbformat": 4,
  "nbformat_minor": 0,
  "metadata": {
    "colab": {
      "provenance": []
    },
    "kernelspec": {
      "name": "python3",
      "display_name": "Python 3"
    },
    "language_info": {
      "name": "python"
    }
  },
  "cells": [
    {
      "cell_type": "code",
      "execution_count": null,
      "metadata": {
        "id": "FKFrxqkqAFSk",
        "colab": {
          "base_uri": "https://localhost:8080/"
        },
        "collapsed": true,
        "outputId": "d3546d53-f48d-4a56-b085-de0212e16828"
      },
      "outputs": [
        {
          "output_type": "stream",
          "name": "stdout",
          "text": [
            "--2024-06-18 17:34:44--  https://archive.ics.uci.edu/static/public/53/iris.zip\n",
            "Resolving archive.ics.uci.edu (archive.ics.uci.edu)... 128.195.10.252\n",
            "Connecting to archive.ics.uci.edu (archive.ics.uci.edu)|128.195.10.252|:443... connected.\n",
            "HTTP request sent, awaiting response... 200 OK\n",
            "Length: unspecified\n",
            "Saving to: ‘iris.zip’\n",
            "\n",
            "iris.zip                [ <=>                ]   3.65K  --.-KB/s    in 0s      \n",
            "\n",
            "2024-06-18 17:34:44 (625 MB/s) - ‘iris.zip’ saved [3738]\n",
            "\n",
            "Archive:  iris.zip\n",
            "  inflating: Index                   \n",
            "  inflating: bezdekIris.data         \n",
            "  inflating: iris.data               \n",
            "  inflating: iris.names              \n"
          ]
        }
      ],
      "source": [
        "# Download and unzip the dataset\n",
        "# NOTE: the ! means that we're sending the command directly to the console,\n",
        "# as opposed to running the command as a piece of Python code.\n",
        "!wget https://archive.ics.uci.edu/static/public/53/iris.zip\n",
        "!unzip iris.zip"
      ]
    },
    {
      "cell_type": "code",
      "source": [
        "# Import relevant libraries: pandas, statistical analysis, and\n",
        "# plotting\n",
        "import pandas as pd\n",
        "from statistics import pstdev, mean\n",
        "import matplotlib.pyplot as plt # BONUS"
      ],
      "metadata": {
        "id": "qa3g7w76BsG4"
      },
      "execution_count": null,
      "outputs": []
    },
    {
      "cell_type": "code",
      "source": [
        "opened_dataset = open(\"/content/iris.data\", \"r\")\n",
        "iris_lines = opened_dataset.readlines()\n",
        "opened_dataset.close()\n",
        "print(iris_lines)"
      ],
      "metadata": {
        "colab": {
          "base_uri": "https://localhost:8080/"
        },
        "id": "ftq4hyxoCAFU",
        "outputId": "0b034a4c-8754-4539-de3e-97da111f8831"
      },
      "execution_count": null,
      "outputs": [
        {
          "output_type": "stream",
          "name": "stdout",
          "text": [
            "['5.1,3.5,1.4,0.2,Iris-setosa\\n', '4.9,3.0,1.4,0.2,Iris-setosa\\n', '4.7,3.2,1.3,0.2,Iris-setosa\\n', '4.6,3.1,1.5,0.2,Iris-setosa\\n', '5.0,3.6,1.4,0.2,Iris-setosa\\n', '5.4,3.9,1.7,0.4,Iris-setosa\\n', '4.6,3.4,1.4,0.3,Iris-setosa\\n', '5.0,3.4,1.5,0.2,Iris-setosa\\n', '4.4,2.9,1.4,0.2,Iris-setosa\\n', '4.9,3.1,1.5,0.1,Iris-setosa\\n', '5.4,3.7,1.5,0.2,Iris-setosa\\n', '4.8,3.4,1.6,0.2,Iris-setosa\\n', '4.8,3.0,1.4,0.1,Iris-setosa\\n', '4.3,3.0,1.1,0.1,Iris-setosa\\n', '5.8,4.0,1.2,0.2,Iris-setosa\\n', '5.7,4.4,1.5,0.4,Iris-setosa\\n', '5.4,3.9,1.3,0.4,Iris-setosa\\n', '5.1,3.5,1.4,0.3,Iris-setosa\\n', '5.7,3.8,1.7,0.3,Iris-setosa\\n', '5.1,3.8,1.5,0.3,Iris-setosa\\n', '5.4,3.4,1.7,0.2,Iris-setosa\\n', '5.1,3.7,1.5,0.4,Iris-setosa\\n', '4.6,3.6,1.0,0.2,Iris-setosa\\n', '5.1,3.3,1.7,0.5,Iris-setosa\\n', '4.8,3.4,1.9,0.2,Iris-setosa\\n', '5.0,3.0,1.6,0.2,Iris-setosa\\n', '5.0,3.4,1.6,0.4,Iris-setosa\\n', '5.2,3.5,1.5,0.2,Iris-setosa\\n', '5.2,3.4,1.4,0.2,Iris-setosa\\n', '4.7,3.2,1.6,0.2,Iris-setosa\\n', '4.8,3.1,1.6,0.2,Iris-setosa\\n', '5.4,3.4,1.5,0.4,Iris-setosa\\n', '5.2,4.1,1.5,0.1,Iris-setosa\\n', '5.5,4.2,1.4,0.2,Iris-setosa\\n', '4.9,3.1,1.5,0.1,Iris-setosa\\n', '5.0,3.2,1.2,0.2,Iris-setosa\\n', '5.5,3.5,1.3,0.2,Iris-setosa\\n', '4.9,3.1,1.5,0.1,Iris-setosa\\n', '4.4,3.0,1.3,0.2,Iris-setosa\\n', '5.1,3.4,1.5,0.2,Iris-setosa\\n', '5.0,3.5,1.3,0.3,Iris-setosa\\n', '4.5,2.3,1.3,0.3,Iris-setosa\\n', '4.4,3.2,1.3,0.2,Iris-setosa\\n', '5.0,3.5,1.6,0.6,Iris-setosa\\n', '5.1,3.8,1.9,0.4,Iris-setosa\\n', '4.8,3.0,1.4,0.3,Iris-setosa\\n', '5.1,3.8,1.6,0.2,Iris-setosa\\n', '4.6,3.2,1.4,0.2,Iris-setosa\\n', '5.3,3.7,1.5,0.2,Iris-setosa\\n', '5.0,3.3,1.4,0.2,Iris-setosa\\n', '7.0,3.2,4.7,1.4,Iris-versicolor\\n', '6.4,3.2,4.5,1.5,Iris-versicolor\\n', '6.9,3.1,4.9,1.5,Iris-versicolor\\n', '5.5,2.3,4.0,1.3,Iris-versicolor\\n', '6.5,2.8,4.6,1.5,Iris-versicolor\\n', '5.7,2.8,4.5,1.3,Iris-versicolor\\n', '6.3,3.3,4.7,1.6,Iris-versicolor\\n', '4.9,2.4,3.3,1.0,Iris-versicolor\\n', '6.6,2.9,4.6,1.3,Iris-versicolor\\n', '5.2,2.7,3.9,1.4,Iris-versicolor\\n', '5.0,2.0,3.5,1.0,Iris-versicolor\\n', '5.9,3.0,4.2,1.5,Iris-versicolor\\n', '6.0,2.2,4.0,1.0,Iris-versicolor\\n', '6.1,2.9,4.7,1.4,Iris-versicolor\\n', '5.6,2.9,3.6,1.3,Iris-versicolor\\n', '6.7,3.1,4.4,1.4,Iris-versicolor\\n', '5.6,3.0,4.5,1.5,Iris-versicolor\\n', '5.8,2.7,4.1,1.0,Iris-versicolor\\n', '6.2,2.2,4.5,1.5,Iris-versicolor\\n', '5.6,2.5,3.9,1.1,Iris-versicolor\\n', '5.9,3.2,4.8,1.8,Iris-versicolor\\n', '6.1,2.8,4.0,1.3,Iris-versicolor\\n', '6.3,2.5,4.9,1.5,Iris-versicolor\\n', '6.1,2.8,4.7,1.2,Iris-versicolor\\n', '6.4,2.9,4.3,1.3,Iris-versicolor\\n', '6.6,3.0,4.4,1.4,Iris-versicolor\\n', '6.8,2.8,4.8,1.4,Iris-versicolor\\n', '6.7,3.0,5.0,1.7,Iris-versicolor\\n', '6.0,2.9,4.5,1.5,Iris-versicolor\\n', '5.7,2.6,3.5,1.0,Iris-versicolor\\n', '5.5,2.4,3.8,1.1,Iris-versicolor\\n', '5.5,2.4,3.7,1.0,Iris-versicolor\\n', '5.8,2.7,3.9,1.2,Iris-versicolor\\n', '6.0,2.7,5.1,1.6,Iris-versicolor\\n', '5.4,3.0,4.5,1.5,Iris-versicolor\\n', '6.0,3.4,4.5,1.6,Iris-versicolor\\n', '6.7,3.1,4.7,1.5,Iris-versicolor\\n', '6.3,2.3,4.4,1.3,Iris-versicolor\\n', '5.6,3.0,4.1,1.3,Iris-versicolor\\n', '5.5,2.5,4.0,1.3,Iris-versicolor\\n', '5.5,2.6,4.4,1.2,Iris-versicolor\\n', '6.1,3.0,4.6,1.4,Iris-versicolor\\n', '5.8,2.6,4.0,1.2,Iris-versicolor\\n', '5.0,2.3,3.3,1.0,Iris-versicolor\\n', '5.6,2.7,4.2,1.3,Iris-versicolor\\n', '5.7,3.0,4.2,1.2,Iris-versicolor\\n', '5.7,2.9,4.2,1.3,Iris-versicolor\\n', '6.2,2.9,4.3,1.3,Iris-versicolor\\n', '5.1,2.5,3.0,1.1,Iris-versicolor\\n', '5.7,2.8,4.1,1.3,Iris-versicolor\\n', '6.3,3.3,6.0,2.5,Iris-virginica\\n', '5.8,2.7,5.1,1.9,Iris-virginica\\n', '7.1,3.0,5.9,2.1,Iris-virginica\\n', '6.3,2.9,5.6,1.8,Iris-virginica\\n', '6.5,3.0,5.8,2.2,Iris-virginica\\n', '7.6,3.0,6.6,2.1,Iris-virginica\\n', '4.9,2.5,4.5,1.7,Iris-virginica\\n', '7.3,2.9,6.3,1.8,Iris-virginica\\n', '6.7,2.5,5.8,1.8,Iris-virginica\\n', '7.2,3.6,6.1,2.5,Iris-virginica\\n', '6.5,3.2,5.1,2.0,Iris-virginica\\n', '6.4,2.7,5.3,1.9,Iris-virginica\\n', '6.8,3.0,5.5,2.1,Iris-virginica\\n', '5.7,2.5,5.0,2.0,Iris-virginica\\n', '5.8,2.8,5.1,2.4,Iris-virginica\\n', '6.4,3.2,5.3,2.3,Iris-virginica\\n', '6.5,3.0,5.5,1.8,Iris-virginica\\n', '7.7,3.8,6.7,2.2,Iris-virginica\\n', '7.7,2.6,6.9,2.3,Iris-virginica\\n', '6.0,2.2,5.0,1.5,Iris-virginica\\n', '6.9,3.2,5.7,2.3,Iris-virginica\\n', '5.6,2.8,4.9,2.0,Iris-virginica\\n', '7.7,2.8,6.7,2.0,Iris-virginica\\n', '6.3,2.7,4.9,1.8,Iris-virginica\\n', '6.7,3.3,5.7,2.1,Iris-virginica\\n', '7.2,3.2,6.0,1.8,Iris-virginica\\n', '6.2,2.8,4.8,1.8,Iris-virginica\\n', '6.1,3.0,4.9,1.8,Iris-virginica\\n', '6.4,2.8,5.6,2.1,Iris-virginica\\n', '7.2,3.0,5.8,1.6,Iris-virginica\\n', '7.4,2.8,6.1,1.9,Iris-virginica\\n', '7.9,3.8,6.4,2.0,Iris-virginica\\n', '6.4,2.8,5.6,2.2,Iris-virginica\\n', '6.3,2.8,5.1,1.5,Iris-virginica\\n', '6.1,2.6,5.6,1.4,Iris-virginica\\n', '7.7,3.0,6.1,2.3,Iris-virginica\\n', '6.3,3.4,5.6,2.4,Iris-virginica\\n', '6.4,3.1,5.5,1.8,Iris-virginica\\n', '6.0,3.0,4.8,1.8,Iris-virginica\\n', '6.9,3.1,5.4,2.1,Iris-virginica\\n', '6.7,3.1,5.6,2.4,Iris-virginica\\n', '6.9,3.1,5.1,2.3,Iris-virginica\\n', '5.8,2.7,5.1,1.9,Iris-virginica\\n', '6.8,3.2,5.9,2.3,Iris-virginica\\n', '6.7,3.3,5.7,2.5,Iris-virginica\\n', '6.7,3.0,5.2,2.3,Iris-virginica\\n', '6.3,2.5,5.0,1.9,Iris-virginica\\n', '6.5,3.0,5.2,2.0,Iris-virginica\\n', '6.2,3.4,5.4,2.3,Iris-virginica\\n', '5.9,3.0,5.1,1.8,Iris-virginica\\n', '\\n']\n"
          ]
        }
      ]
    },
    {
      "cell_type": "code",
      "source": [
        "# Remove the last empty line/clean dataset\n",
        "iris_lines.pop(-1)"
      ],
      "metadata": {
        "colab": {
          "base_uri": "https://localhost:8080/",
          "height": 36
        },
        "id": "dNrm_l2ODX5W",
        "outputId": "30c5a982-41ca-4c78-8812-a72f36a0da6b"
      },
      "execution_count": null,
      "outputs": [
        {
          "output_type": "execute_result",
          "data": {
            "text/plain": [
              "'\\n'"
            ],
            "application/vnd.google.colaboratory.intrinsic+json": {
              "type": "string"
            }
          },
          "metadata": {},
          "execution_count": 6
        }
      ]
    },
    {
      "cell_type": "code",
      "source": [
        "split_lines = [line.split(',') for line in iris_lines]\n",
        "\n",
        "iris_df = pd.DataFrame(split_lines, columns = [\"sepal length\", \"sepal width\", \"petal length\", \"petal width\", \"class\"])\n",
        "iris_df = iris_df.apply(pd.to_numeric, errors = \"ignore\")"
      ],
      "metadata": {
        "id": "4LjF_-ptDgWc"
      },
      "execution_count": null,
      "outputs": []
    },
    {
      "cell_type": "code",
      "source": [
        "print(iris_df)"
      ],
      "metadata": {
        "colab": {
          "base_uri": "https://localhost:8080/"
        },
        "id": "HN8VHC6mFeJP",
        "outputId": "8b4dfced-2393-4934-e31f-bb670d035879",
        "collapsed": true
      },
      "execution_count": null,
      "outputs": [
        {
          "output_type": "stream",
          "name": "stdout",
          "text": [
            "     sepal length  sepal width  petal length  petal width             class\n",
            "0             5.1          3.5           1.4          0.2     Iris-setosa\\n\n",
            "1             4.9          3.0           1.4          0.2     Iris-setosa\\n\n",
            "2             4.7          3.2           1.3          0.2     Iris-setosa\\n\n",
            "3             4.6          3.1           1.5          0.2     Iris-setosa\\n\n",
            "4             5.0          3.6           1.4          0.2     Iris-setosa\\n\n",
            "..            ...          ...           ...          ...               ...\n",
            "145           6.7          3.0           5.2          2.3  Iris-virginica\\n\n",
            "146           6.3          2.5           5.0          1.9  Iris-virginica\\n\n",
            "147           6.5          3.0           5.2          2.0  Iris-virginica\\n\n",
            "148           6.2          3.4           5.4          2.3  Iris-virginica\\n\n",
            "149           5.9          3.0           5.1          1.8  Iris-virginica\\n\n",
            "\n",
            "[150 rows x 5 columns]\n"
          ]
        }
      ]
    },
    {
      "cell_type": "code",
      "source": [
        "iris_df = pd.read_csv('/content/iris.data', header = None, names = ['sepal length', 'sepal width', 'petal length', 'petal width', 'class'])\n",
        "print(iris_df)"
      ],
      "metadata": {
        "colab": {
          "base_uri": "https://localhost:8080/"
        },
        "collapsed": true,
        "id": "2WUwj6N3Ikbk",
        "outputId": "fce7ec3f-3a69-45e7-a9cb-01a85b47a193"
      },
      "execution_count": null,
      "outputs": [
        {
          "output_type": "stream",
          "name": "stdout",
          "text": [
            "     sepal length  sepal width  petal length  petal width           class\n",
            "0             5.1          3.5           1.4          0.2     Iris-setosa\n",
            "1             4.9          3.0           1.4          0.2     Iris-setosa\n",
            "2             4.7          3.2           1.3          0.2     Iris-setosa\n",
            "3             4.6          3.1           1.5          0.2     Iris-setosa\n",
            "4             5.0          3.6           1.4          0.2     Iris-setosa\n",
            "..            ...          ...           ...          ...             ...\n",
            "145           6.7          3.0           5.2          2.3  Iris-virginica\n",
            "146           6.3          2.5           5.0          1.9  Iris-virginica\n",
            "147           6.5          3.0           5.2          2.0  Iris-virginica\n",
            "148           6.2          3.4           5.4          2.3  Iris-virginica\n",
            "149           5.9          3.0           5.1          1.8  Iris-virginica\n",
            "\n",
            "[150 rows x 5 columns]\n"
          ]
        }
      ]
    },
    {
      "cell_type": "code",
      "source": [
        "iris_df.dropna(inplace = True)"
      ],
      "metadata": {
        "id": "wV4XPUEZJTb-"
      },
      "execution_count": null,
      "outputs": []
    },
    {
      "cell_type": "code",
      "source": [
        "features = iris_df.iloc[:, :4]\n",
        "print(features)"
      ],
      "metadata": {
        "colab": {
          "base_uri": "https://localhost:8080/"
        },
        "collapsed": true,
        "id": "5-Yvv183Jc6H",
        "outputId": "f4e85fd8-bdeb-4387-c11c-4ef288cac08a"
      },
      "execution_count": null,
      "outputs": [
        {
          "output_type": "stream",
          "name": "stdout",
          "text": [
            "     sepal length  sepal width  petal length  petal width\n",
            "0             5.1          3.5           1.4          0.2\n",
            "1             4.9          3.0           1.4          0.2\n",
            "2             4.7          3.2           1.3          0.2\n",
            "3             4.6          3.1           1.5          0.2\n",
            "4             5.0          3.6           1.4          0.2\n",
            "..            ...          ...           ...          ...\n",
            "145           6.7          3.0           5.2          2.3\n",
            "146           6.3          2.5           5.0          1.9\n",
            "147           6.5          3.0           5.2          2.0\n",
            "148           6.2          3.4           5.4          2.3\n",
            "149           5.9          3.0           5.1          1.8\n",
            "\n",
            "[150 rows x 4 columns]\n"
          ]
        }
      ]
    },
    {
      "cell_type": "code",
      "source": [
        "standard_dev = [pstdev(features[col]) for col in features]\n",
        "\n",
        "print(standard_dev)"
      ],
      "metadata": {
        "colab": {
          "base_uri": "https://localhost:8080/"
        },
        "id": "64VXtS2YKCyH",
        "outputId": "25937204-0bdc-4cbe-9799-ca0fa03f5e6b"
      },
      "execution_count": null,
      "outputs": [
        {
          "output_type": "stream",
          "name": "stdout",
          "text": [
            "[0.8253012917851409, 0.4321465800705435, 1.7585291834055212, 0.7606126185881718]\n"
          ]
        }
      ]
    },
    {
      "cell_type": "code",
      "source": [
        "max_values = [max(features[col]) for col in features]\n",
        "scaled_values = features.div(max_values)\n",
        "print(scaled_values)"
      ],
      "metadata": {
        "colab": {
          "base_uri": "https://localhost:8080/"
        },
        "collapsed": true,
        "id": "4f_Kwe3-K0Oc",
        "outputId": "2229ea94-ac56-4e66-ae51-ee2fb5da5439"
      },
      "execution_count": null,
      "outputs": [
        {
          "output_type": "stream",
          "name": "stdout",
          "text": [
            "     sepal length  sepal width  petal length  petal width\n",
            "0        0.645570     0.795455      0.202899         0.08\n",
            "1        0.620253     0.681818      0.202899         0.08\n",
            "2        0.594937     0.727273      0.188406         0.08\n",
            "3        0.582278     0.704545      0.217391         0.08\n",
            "4        0.632911     0.818182      0.202899         0.08\n",
            "..            ...          ...           ...          ...\n",
            "145      0.848101     0.681818      0.753623         0.92\n",
            "146      0.797468     0.568182      0.724638         0.76\n",
            "147      0.822785     0.681818      0.753623         0.80\n",
            "148      0.784810     0.772727      0.782609         0.92\n",
            "149      0.746835     0.681818      0.739130         0.72\n",
            "\n",
            "[150 rows x 4 columns]\n"
          ]
        }
      ]
    },
    {
      "cell_type": "code",
      "source": [
        "stdev_strings = []\n",
        "\n",
        "for stdev in standard_dev:\n",
        "  stdev_strings.append(str(stdev))\n",
        "\n",
        "big_stdev_string = \",\".join(stdev_strings)\n",
        "\n",
        "stdev_file = open(\"stdev.txt\", \"w\")\n",
        "stdev_file.write(big_stdev_string)\n",
        "stdev_file.close()"
      ],
      "metadata": {
        "id": "kp6uC38mMCnY"
      },
      "execution_count": null,
      "outputs": []
    },
    {
      "cell_type": "code",
      "source": [
        "feature_strings = []\n",
        "\n",
        "for row in scaled_values.itertuples():\n",
        "  feature_string = str(row[1:])\n",
        "  feature_strings.append(feature_string[1:-1])\n",
        "\n",
        "big_feature_string = \"\\n\".join(feature_strings)\n",
        "\n",
        "feature_text = open(\"/content/features.txt\", \"w\")\n",
        "feature_text.write(big_feature_string)\n",
        "feature_text.close()"
      ],
      "metadata": {
        "id": "zveLBhmKNHUe"
      },
      "execution_count": null,
      "outputs": []
    },
    {
      "cell_type": "code",
      "source": [
        "import matplotlib.pyplot as plt # BONUS\n",
        "mean_sepal_length = mean(features[\"sepal length\"])\n",
        "std_sepal_length = pstdev(features[\"sepal length\"])\n",
        "\n",
        "colors = []\n",
        "\n",
        "for feature in features[\"sepal length\"]:\n",
        "  if abs(feature - mean_sepal_length) > std_sepal_length:\n",
        "    colors.append('red')\n",
        "  else:\n",
        "    colors.append('blue')\n",
        "\n",
        "plt.scatter(features[\"sepal length\"], features[\"sepal width\"], c = colors)\n",
        "# plt.xlabel(\"Sepal Length\")\n",
        "# plt.ylabel(\"Sepal Width\")\n",
        "# plt.title(\"Sepal Length vs. Sepal Width\")\n",
        "plt.show()"
      ],
      "metadata": {
        "colab": {
          "base_uri": "https://localhost:8080/",
          "height": 433
        },
        "id": "xnevdmlxazf4",
        "outputId": "5e7db6b2-da79-40c7-96bb-6b70340108c3"
      },
      "execution_count": null,
      "outputs": [
        {
          "output_type": "display_data",
          "data": {
            "text/plain": [
              "<Figure size 640x480 with 1 Axes>"
            ],
            "image/png": "[encoded data removed]"
          },
          "metadata": {}
        }
      ]
    },
    {
      "cell_type": "code",
      "source": [
        "S"
      ],
      "metadata": {
        "id": "x7VKoocAb4Oe"
      },
      "execution_count": null,
      "outputs": []
    }
  ]
}