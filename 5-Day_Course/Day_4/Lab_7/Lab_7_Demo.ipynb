{
  "nbformat": 4,
  "nbformat_minor": 0,
  "metadata": {
    "colab": {
      "provenance": []
    },
    "kernelspec": {
      "name": "python3",
      "display_name": "Python 3"
    },
    "language_info": {
      "name": "python"
    }
  },
  "cells": [
    {
      "cell_type": "code",
      "source": [
        "from sklearn.datasets import load_iris"
      ],
      "metadata": {
        "id": "rVvM0PWyuUzV"
      },
      "execution_count": null,
      "outputs": []
    },
    {
      "cell_type": "code",
      "source": [
        "X, y = load_iris(return_X_y = True)"
      ],
      "metadata": {
        "id": "w5V0Xmd0uWan"
      },
      "execution_count": null,
      "outputs": []
    },
    {
      "cell_type": "code",
      "source": [
        "from sklearn.cluster import KMeans"
      ],
      "metadata": {
        "id": "-wEFOaBruYl7"
      },
      "execution_count": null,
      "outputs": []
    },
    {
      "cell_type": "code",
      "source": [
        "kmeans = KMeans(n_clusters = 3)"
      ],
      "metadata": {
        "id": "kZ15m6ILucTk"
      },
      "execution_count": null,
      "outputs": []
    },
    {
      "cell_type": "code",
      "source": [
        "# fit the k means clustering to only X (it's an unsupervised algorithm)\n",
        "kmeans = kmeans.fit(X)"
      ],
      "metadata": {
        "colab": {
          "base_uri": "https://localhost:8080/"
        },
        "id": "gfA_fEcWuhlY",
        "outputId": "589f2c7e-6ffe-4942-e09d-b6bd61a99331"
      },
      "execution_count": null,
      "outputs": [
        {
          "output_type": "stream",
          "name": "stderr",
          "text": [
            "/usr/local/lib/python3.10/dist-packages/sklearn/cluster/_kmeans.py:870: FutureWarning: The default value of `n_init` will change from 10 to 'auto' in 1.4. Set the value of `n_init` explicitly to suppress the warning\n",
            "  warnings.warn(\n"
          ]
        }
      ]
    },
    {
      "cell_type": "code",
      "source": [
        "# these are the clusters it gave us\n",
        "kmeans.labels_"
      ],
      "metadata": {
        "colab": {
          "base_uri": "https://localhost:8080/"
        },
        "id": "NOw5GZi6upXo",
        "outputId": "8cf4d1aa-b2c7-4c33-899f-c2681c162fe0"
      },
      "execution_count": null,
      "outputs": [
        {
          "output_type": "execute_result",
          "data": {
            "text/plain": [
              "array([1, 1, 1, 1, 1, 1, 1, 1, 1, 1, 1, 1, 1, 1, 1, 1, 1, 1, 1, 1, 1, 1,\n",
              "       1, 1, 1, 1, 1, 1, 1, 1, 1, 1, 1, 1, 1, 1, 1, 1, 1, 1, 1, 1, 1, 1,\n",
              "       1, 1, 1, 1, 1, 1, 0, 0, 2, 0, 0, 0, 0, 0, 0, 0, 0, 0, 0, 0, 0, 0,\n",
              "       0, 0, 0, 0, 0, 0, 0, 0, 0, 0, 0, 2, 0, 0, 0, 0, 0, 0, 0, 0, 0, 0,\n",
              "       0, 0, 0, 0, 0, 0, 0, 0, 0, 0, 0, 0, 2, 0, 2, 2, 2, 2, 0, 2, 2, 2,\n",
              "       2, 2, 2, 0, 0, 2, 2, 2, 2, 0, 2, 0, 2, 0, 2, 2, 0, 0, 2, 2, 2, 2,\n",
              "       2, 0, 2, 2, 2, 2, 0, 2, 2, 2, 0, 2, 2, 2, 0, 2, 2, 0], dtype=int32)"
            ]
          },
          "metadata": {},
          "execution_count": 28
        }
      ]
    },
    {
      "cell_type": "code",
      "source": [
        "y"
      ],
      "metadata": {
        "colab": {
          "base_uri": "https://localhost:8080/"
        },
        "id": "2zxfJnCouwS5",
        "outputId": "1104287c-29ff-43ff-ac7e-753e727a4dc1"
      },
      "execution_count": null,
      "outputs": [
        {
          "output_type": "execute_result",
          "data": {
            "text/plain": [
              "array([0, 0, 0, 0, 0, 0, 0, 0, 0, 0, 0, 0, 0, 0, 0, 0, 0, 0, 0, 0, 0, 0,\n",
              "       0, 0, 0, 0, 0, 0, 0, 0, 0, 0, 0, 0, 0, 0, 0, 0, 0, 0, 0, 0, 0, 0,\n",
              "       0, 0, 0, 0, 0, 0, 1, 1, 1, 1, 1, 1, 1, 1, 1, 1, 1, 1, 1, 1, 1, 1,\n",
              "       1, 1, 1, 1, 1, 1, 1, 1, 1, 1, 1, 1, 1, 1, 1, 1, 1, 1, 1, 1, 1, 1,\n",
              "       1, 1, 1, 1, 1, 1, 1, 1, 1, 1, 1, 1, 2, 2, 2, 2, 2, 2, 2, 2, 2, 2,\n",
              "       2, 2, 2, 2, 2, 2, 2, 2, 2, 2, 2, 2, 2, 2, 2, 2, 2, 2, 2, 2, 2, 2,\n",
              "       2, 2, 2, 2, 2, 2, 2, 2, 2, 2, 2, 2, 2, 2, 2, 2, 2, 2])"
            ]
          },
          "metadata": {},
          "execution_count": 29
        }
      ]
    },
    {
      "cell_type": "code",
      "source": [
        "import matplotlib.pyplot as plt"
      ],
      "metadata": {
        "id": "3N5sgcN3u5zM"
      },
      "execution_count": null,
      "outputs": []
    },
    {
      "cell_type": "code",
      "source": [
        "colors = [\"red\", \"green\", \"blue\"]"
      ],
      "metadata": {
        "id": "ME5YkmFvvMeD"
      },
      "execution_count": null,
      "outputs": []
    },
    {
      "cell_type": "code",
      "source": [
        "# plot the points one by one\n",
        "for i in range(150):\n",
        "  # based off of which cluster the point is in, decide its color\n",
        "  current_color = colors[kmeans.labels_[i]]\n",
        "  # plot the first two dimensions with that color\n",
        "  plt.scatter(X[i][0], X[i][1], color = current_color)\n",
        "plt.xlabel(\"sepal length (cm)\")\n",
        "plt.ylabel(\"sepal width (cm)\")\n",
        "plt.savefig(\"scatter.png\")"
      ],
      "metadata": {
        "colab": {
          "base_uri": "https://localhost:8080/",
          "height": 452
        },
        "id": "QEnUJ9INvQEy",
        "outputId": "c1cb5f15-501e-4131-da28-9f729cc6551e"
      },
      "execution_count": null,
      "outputs": [
        {
          "output_type": "display_data",
          "data": {
            "text/plain": [
              "<Figure size 640x480 with 1 Axes>"
            ],
            "image/png": "[encoded data removed]"
          },
          "metadata": {}
        }
      ]
    },
    {
      "cell_type": "code",
      "source": [
        "kmeans.cluster_centers_"
      ],
      "metadata": {
        "colab": {
          "base_uri": "https://localhost:8080/"
        },
        "id": "Ykw6XLN2vgkA",
        "outputId": "865f76ca-0144-4d68-df83-3a8201778f8d"
      },
      "execution_count": null,
      "outputs": [
        {
          "output_type": "execute_result",
          "data": {
            "text/plain": [
              "array([[5.9016129 , 2.7483871 , 4.39354839, 1.43387097],\n",
              "       [5.006     , 3.428     , 1.462     , 0.246     ],\n",
              "       [6.85      , 3.07368421, 5.74210526, 2.07105263]])"
            ]
          },
          "metadata": {},
          "execution_count": 33
        }
      ]
    },
    {
      "cell_type": "code",
      "source": [
        "from sklearn.decomposition import PCA"
      ],
      "metadata": {
        "id": "FEdvCG-uwTJj"
      },
      "execution_count": null,
      "outputs": []
    },
    {
      "cell_type": "code",
      "source": [
        "pca = PCA(n_components=3)\n",
        "# fit on the input because it's an unsupervised model\n",
        "pca.fit(X)"
      ],
      "metadata": {
        "colab": {
          "base_uri": "https://localhost:8080/",
          "height": 74
        },
        "id": "VDaTv_TIyfg2",
        "outputId": "af5bc6e6-a021-4bf6-898a-29132eee8c74"
      },
      "execution_count": null,
      "outputs": [
        {
          "output_type": "execute_result",
          "data": {
            "text/plain": [
              "PCA(n_components=3)"
            ],
            "text/html": [
              "<style>#sk-container-id-1 {color: black;background-color: white;}#sk-container-id-1 pre{padding: 0;}#sk-container-id-1 div.sk-toggleable {background-color: white;}#sk-container-id-1 label.sk-toggleable__label {cursor: pointer;display: block;width: 100%;margin-bottom: 0;padding: 0.3em;box-sizing: border-box;text-align: center;}#sk-container-id-1 label.sk-toggleable__label-arrow:before {content: \"▸\";float: left;margin-right: 0.25em;color: #696969;}#sk-container-id-1 label.sk-toggleable__label-arrow:hover:before {color: black;}#sk-container-id-1 div.sk-estimator:hover label.sk-toggleable__label-arrow:before {color: black;}#sk-container-id-1 div.sk-toggleable__content {max-height: 0;max-width: 0;overflow: hidden;text-align: left;background-color: #f0f8ff;}#sk-container-id-1 div.sk-toggleable__content pre {margin: 0.2em;color: black;border-radius: 0.25em;background-color: #f0f8ff;}#sk-container-id-1 input.sk-toggleable__control:checked~div.sk-toggleable__content {max-height: 200px;max-width: 100%;overflow: auto;}#sk-container-id-1 input.sk-toggleable__control:checked~label.sk-toggleable__label-arrow:before {content: \"▾\";}#sk-container-id-1 div.sk-estimator input.sk-toggleable__control:checked~label.sk-toggleable__label {background-color: #d4ebff;}#sk-container-id-1 div.sk-label input.sk-toggleable__control:checked~label.sk-toggleable__label {background-color: #d4ebff;}#sk-container-id-1 input.sk-hidden--visually {border: 0;clip: rect(1px 1px 1px 1px);clip: rect(1px, 1px, 1px, 1px);height: 1px;margin: -1px;overflow: hidden;padding: 0;position: absolute;width: 1px;}#sk-container-id-1 div.sk-estimator {font-family: monospace;background-color: #f0f8ff;border: 1px dotted black;border-radius: 0.25em;box-sizing: border-box;margin-bottom: 0.5em;}#sk-container-id-1 div.sk-estimator:hover {background-color: #d4ebff;}#sk-container-id-1 div.sk-parallel-item::after {content: \"\";width: 100%;border-bottom: 1px solid gray;flex-grow: 1;}#sk-container-id-1 div.sk-label:hover label.sk-toggleable__label {background-color: #d4ebff;}#sk-container-id-1 div.sk-serial::before {content: \"\";position: absolute;border-left: 1px solid gray;box-sizing: border-box;top: 0;bottom: 0;left: 50%;z-index: 0;}#sk-container-id-1 div.sk-serial {display: flex;flex-direction: column;align-items: center;background-color: white;padding-right: 0.2em;padding-left: 0.2em;position: relative;}#sk-container-id-1 div.sk-item {position: relative;z-index: 1;}#sk-container-id-1 div.sk-parallel {display: flex;align-items: stretch;justify-content: center;background-color: white;position: relative;}#sk-container-id-1 div.sk-item::before, #sk-container-id-1 div.sk-parallel-item::before {content: \"\";position: absolute;border-left: 1px solid gray;box-sizing: border-box;top: 0;bottom: 0;left: 50%;z-index: -1;}#sk-container-id-1 div.sk-parallel-item {display: flex;flex-direction: column;z-index: 1;position: relative;background-color: white;}#sk-container-id-1 div.sk-parallel-item:first-child::after {align-self: flex-end;width: 50%;}#sk-container-id-1 div.sk-parallel-item:last-child::after {align-self: flex-start;width: 50%;}#sk-container-id-1 div.sk-parallel-item:only-child::after {width: 0;}#sk-container-id-1 div.sk-dashed-wrapped {border: 1px dashed gray;margin: 0 0.4em 0.5em 0.4em;box-sizing: border-box;padding-bottom: 0.4em;background-color: white;}#sk-container-id-1 div.sk-label label {font-family: monospace;font-weight: bold;display: inline-block;line-height: 1.2em;}#sk-container-id-1 div.sk-label-container {text-align: center;}#sk-container-id-1 div.sk-container {/* jupyter's `normalize.less` sets `[hidden] { display: none; }` but bootstrap.min.css set `[hidden] { display: none !important; }` so we also need the `!important` here to be able to override the default hidden behavior on the sphinx rendered scikit-learn.org. See: https://github.com/scikit-learn/scikit-learn/issues/21755 */display: inline-block !important;position: relative;}#sk-container-id-1 div.sk-text-repr-fallback {display: none;}</style><div id=\"sk-container-id-1\" class=\"sk-top-container\"><div class=\"sk-text-repr-fallback\"><pre>PCA(n_components=3)</pre><b>In a Jupyter environment, please rerun this cell to show the HTML representation or trust the notebook. <br />On GitHub, the HTML representation is unable to render, please try loading this page with nbviewer.org.</b></div><div class=\"sk-container\" hidden><div class=\"sk-item\"><div class=\"sk-estimator sk-toggleable\"><input class=\"sk-toggleable__control sk-hidden--visually\" id=\"sk-estimator-id-1\" type=\"checkbox\" checked><label for=\"sk-estimator-id-1\" class=\"sk-toggleable__label sk-toggleable__label-arrow\">PCA</label><div class=\"sk-toggleable__content\"><pre>PCA(n_components=3)</pre></div></div></div></div></div>"
            ]
          },
          "metadata": {},
          "execution_count": 37
        }
      ]
    },
    {
      "cell_type": "code",
      "source": [
        "mat = pca.components_\n",
        "mat"
      ],
      "metadata": {
        "colab": {
          "base_uri": "https://localhost:8080/"
        },
        "id": "RqOO5XqVykpL",
        "outputId": "076c3039-ef30-49e2-8040-149e6c6485c9"
      },
      "execution_count": null,
      "outputs": [
        {
          "output_type": "execute_result",
          "data": {
            "text/plain": [
              "array([[ 0.36138659, -0.08452251,  0.85667061,  0.3582892 ],\n",
              "       [ 0.65658877,  0.73016143, -0.17337266, -0.07548102],\n",
              "       [-0.58202985,  0.59791083,  0.07623608,  0.54583143]])"
            ]
          },
          "metadata": {},
          "execution_count": 38
        }
      ]
    },
    {
      "cell_type": "code",
      "source": [
        "mat @ X[0]"
      ],
      "metadata": {
        "colab": {
          "base_uri": "https://localhost:8080/"
        },
        "id": "UePhpAceyz9p",
        "outputId": "584a8264-03d8-41fe-b53f-658ce2bd7983"
      },
      "execution_count": null,
      "outputs": [
        {
          "output_type": "execute_result",
          "data": {
            "text/plain": [
              "array([ 2.81823951,  5.64634982, -0.65976754])"
            ]
          },
          "metadata": {},
          "execution_count": 39
        }
      ]
    },
    {
      "cell_type": "code",
      "source": [
        "data = []\n",
        "for i in range(150):\n",
        "  # this is converting the input to 3 dimensions\n",
        "  line = list(mat @ X[i])\n",
        "  # add the label to the end of the line\n",
        "  line.append(y[i])\n",
        "  # add the line to the data\n",
        "  data.append(line)\n",
        "print(data)"
      ],
      "metadata": {
        "colab": {
          "base_uri": "https://localhost:8080/"
        },
        "id": "6HmdeIL7y78j",
        "outputId": "66043a95-39dc-4d4c-f7f9-4450333a13c8"
      },
      "execution_count": null,
      "outputs": [
        {
          "output_type": "stream",
          "name": "stdout",
          "text": [
            "[[2.8182395066394683, 5.6463498234127965, -0.6597675437572691, 0], [2.7882234453146797, 5.149951351762915, -0.8423169885460989, 0], [2.6133745635497085, 5.182003150742138, -0.613952459846965, 0], [2.757022276967595, 5.008653597575778, -0.6002933425621745, 0], [2.773648596054475, 5.653707089762616, -0.5417734756166542, 0], [3.221505499764513, 6.068283025890611, -0.4631750579587506, 0], [2.6818273818683966, 5.237491192299127, -0.3739605579122378, 0], [2.876220159462372, 5.490337536526024, -0.653732034054575, 0], [2.615982400828452, 4.748640822640992, -0.611093145903075, 0], [2.829609334788051, 5.213178330953578, -0.8294854411560016, 0], [2.9954180419571492, 5.972021475476268, -0.7071707255469751, 0], [2.889609901700282, 5.34168251598907, -0.5297024562112657, 0], [2.7162558664209877, 5.091840576625977, -0.8386971466175001, 0], [2.278561388743353, 4.815557989821313, -0.5705530437107564, 0], [2.8576147426669753, 6.50571721326527, -0.7834802397856646, 0], [3.1163260990778716, 6.665014907228348, -0.3540758134647197, 0], [2.878837257384579, 6.137632091008953, -0.49366948828713586, 0], [2.8540684263546234, 5.638801721421051, -0.6051844005552616, 0], [3.302544808991425, 6.1997916157899065, -0.7521582395625861, 0], [2.9143787327302366, 5.840512885576972, -0.41818754394313973, 0], [3.192108917366487, 5.7182985124815895, -0.8712967594128084, 0], [2.9586599038518484, 5.759948640106724, -0.42339548375114044, 0], [2.2864257169603937, 5.460420646366221, -0.3394559654226134, 0], [3.1996319503827984, 5.425661431641795, -0.5927294574249747, 0], [3.146611083485232, 5.289670717150313, -0.5068316334649767, 0], [2.9956962256831834, 5.180935696332427, -0.8852727585125127, 0], [3.033545059487666, 5.457904066262946, -0.5369421400684635, 0], [2.9400452264129893, 5.6946714342618945, -0.7103469213057793, 0], [2.8628304172244627, 5.638992557062978, -0.7777616118978844, 0], [2.870375745334659, 5.129991351903381, -0.5910816371006761, 0], [2.9149666559196525, 5.122634085553561, -0.7090757052412912, 0], [3.09243263560683, 5.737876841057268, -0.7773776881729859, 0], [2.853502798259093, 6.140316397124657, -0.40618356644773584, 0], [2.9036283835084182, 6.420098336277052, -0.47404190320963535, 0], [2.865438254503206, 5.205630228961832, -0.774902297953994, 0], [2.6361234804903355, 5.396317048407775, -0.7961850228208809, 0], [2.877127082758633, 5.926322598207119, -0.9002030918617915, 0], [2.701681017160783, 5.595596314625677, -0.5381536336880554, 0], [2.5218630888270117, 4.83899423239908, -0.5589256704751626, 0], [2.912358818640909, 5.555996413654707, -0.7119350191851815, 0], [2.732262706581104, 5.590480110571953, -0.5546050230067513, 0], [2.6529964275659017, 4.385992003186499, -0.9810830934738217, 0], [2.504958586014098, 4.985026519356085, -0.4393435044551455, 0], [3.096750647511519, 5.515824005757956, -0.36798477065443963, 0], [3.2928758948253254, 5.763615718466883, -0.3331099704127468, 0], [2.787913705851298, 5.076744372642485, -0.7295308602134849, 0], [2.964216873610065, 5.830723721289132, -0.4651470795630509, 0], [2.662902964966155, 5.099007007333867, -0.5481258671342623, 0], [2.959279382778612, 5.906362598347584, -0.6489677404163686, 0], [2.7990053502738457, 5.434658659327107, -0.72114672464668, 0], [6.787190821467356, 6.012113047295004, -1.0384207416355493, 1], [6.434853664921322, 5.645286215090325, -0.649866902814095, 1], [6.9666674546003975, 5.831215392136902, -0.9701784811487514, 1], [5.685682852567375, 4.498993565007064, -0.8114441080432104, 1], [6.59046839032067, 5.401543252025413, -0.9396106124026394, 1], [6.144034216867081, 4.908705705259016, -0.5907766253438989, 1], [6.597425795241451, 5.610420846889224, -0.46204247630728, 1], [4.7532424627793475, 4.3220616156458, -0.6195497969302597, 1], [6.5464969586624395, 5.555314476616092, -1.0471888009272527, 1], [5.493619728526109, 4.60387067182286, -0.3507112849914452, 1], [4.994524248773679, 4.060981386301302, -0.9016698989367076, 1], [6.014063690056602, 5.222971341328655, -0.5013049659273686, 1], [5.767341640721051, 4.776916113147221, -1.325999546312274, 1], [6.487299643079894, 5.202134722701338, -0.6939671244901163, 1], [5.328439760927236, 5.072098368125106, -0.5413950254421507, 1], [6.430225913553252, 5.794132071269207, -0.9464736920000273, 1], [6.162648894305941, 4.973982911103845, -0.30382518778926004, 1], [5.738470125926677, 4.99334181000278, -0.9030145534189218, 1], [6.447098860628817, 4.7838070260479295, -1.1313717626529676, 1], [5.547592108907704, 4.743118199355831, -0.8668548211399112, 1], [6.618648309959054, 5.242335724632907, -0.17223172480875093, 1], [5.860253550606312, 5.258027545171682, -0.8617066037768066, 1], [6.800549007967918, 4.999165268493779, -0.9797070684251633, 1], [6.424094055056041, 5.144214783206328, -0.8629244939041399, 1], [6.217218458520415, 5.47600852119748, -0.9536536534123288, 1], [6.402539505781172, 5.655457050662019, -0.9480617898794291, 1], [6.834389569331092, 5.571393452844039, -1.1535554958322742, 1], [7.060167287675075, 5.594448024137951, -0.7967736999114352, 1], [6.315655782426545, 5.16360227614008, -0.5964282113216949, 1], [5.1967813545846955, 4.958690387073108, -0.9503442967909017, 1], [5.4342386405406415, 4.6217804450282305, -0.8760665266014096, 1], [5.312742660230503, 4.646665813299562, -0.9382732773855136, 1], [5.63879384416702, 5.012920138578459, -0.8090954821790993, 1], [6.882391568524516, 4.905998289513814, -0.6156855886471263, 1], [6.0903715759488675, 4.842665156846477, -0.18741921752804702, 1], [6.309223445109416, 5.5211348915408465, -0.2428896530696446, 1], [6.723056015053357, 5.734572170438704, -0.8690197260517306, 1], [6.317460368375604, 4.954915516918193, -1.2465735587596773, 1], [5.748322812495696, 5.05842818020568, -0.4434859045216606, 1], [5.6687783497544615, 4.645025851964068, -0.6918619420231933, 1], [5.967165421012783, 4.656241032315974, -0.6561595718868068, 1], [6.393180331078454, 5.292488132459427, -0.6417996490622041, 1], [5.732913156168459, 4.922566728820371, -0.8612629576070115, 1], [4.797833373364341, 4.314704349295982, -0.7375438650708748, 1], [5.859346627310051, 4.822042483490587, -0.6152355459695897, 1], [5.834299612554062, 5.114297893046525, -0.5486484252721783, 1], [5.878580783675675, 5.033733647576276, -0.5538563650801793, 1], [6.144941140163342, 5.344690766940111, -0.8372476831511158, 1], [4.595895267660168, 4.570859210228682, -0.6444523637257455, 1], [5.8013659744871475, 4.9780547703773586, -0.6212710556722842, 1], [8.033557860412632, 5.317103467328892, 0.1283127110780402, 2], [6.917601009312907, 4.752036229281206, -0.3355301887798907, 2], [8.119041148604694, 5.67085572816943, -0.7426405993869631, 2], [7.47389618565244, 5.147224672475451, -0.5234280537044321, 2], [7.852371052653644, 5.286691629685166, -0.34646315298341346, 2], [8.899403868662262, 5.877789249855752, -0.9802902719653219, 2], [6.023597376518778, 4.134193849827049, -0.0861934205210424, 2], [8.434952201602693, 5.682452579805192, -1.0520926519358227, 2], [7.823593949182381, 5.083121074517005, -0.9801571111026998, 2], [8.419116099395076, 6.109744525642974, -0.20851729848529654, 2], [7.164139286245535, 5.569180984582763, -0.389412526442086, 2], [7.305767085574095, 5.11131495949414, -0.6695008843993373, 2], [7.66795692868915, 5.543228161901721, -0.5985260743235294, 2], [6.848528712067456, 4.550134229483355, -0.34994983404939006, 2], [7.088293356482225, 4.787311862800976, -0.002823389759844419, 2], [7.406821507402432, 5.4462032689196676, -0.15221289654126413, 2], [7.452054192008074, 5.368895836490908, -0.5876665485377329, 2], [8.989420496899282, 6.502691906541125, -0.49795784223175676, 2], [9.298010554681888, 5.584275550248176, -1.145620479985659, 2], [6.8031568452466615, 4.565802940392632, -0.9768477544812729, 2], [7.930183045675049, 5.705148589444747, -0.41273339186591196, 2], [6.701366238074565, 4.7208610490697644, -0.11999720747085418, 2], [9.002285171533543, 5.787626675739592, -1.2050349587358578, 2], [6.89113126430047, 5.122553249475545, -0.696375472799123, 2], [7.777795636481208, 5.661943182649373, -0.34570262499870497, 2], [8.116455606419835, 5.887853931950773, -0.8373872405214801, 2], [6.760873293120492, 5.147247782104948, -0.5860050122406048, 2], [6.793497191724025, 5.210283925653685, -0.40059625350788475, 2], [7.625973855382899, 5.117223100150393, -0.47767269223902464, 2], [7.890368148612471, 5.791592381536433, -1.0813829081097044, 2], [8.344037910712874, 5.7022217440228, -1.1307507920386235, 2], [8.733038794041097, 6.701117663620744, -0.7464009216432741, 2], [7.661802775098054, 5.1096749981586465, -0.423089549037017, 2], [6.9465263749385135, 5.183539166370116, -0.7850866042309451, 2], [7.283659942654117, 4.827050895749559, -0.8047279052812749, 2], [8.578865064296192, 6.015038254398872, -0.9674450086023956, 2], [7.646608446911086, 5.467016777917485, 0.10302622055765598, 2], [7.407463281423079, 5.376253102840725, -0.46967248039711784, 2], [6.6716914719505045, 5.161962314804586, -0.3500168759593746, 2], [7.609976275866247, 5.699240448788495, -0.6045615840262244, 2], [7.816519837844605, 5.510603855996716, -0.30915896899479556, 2], [7.424632933511605, 5.736156043643759, -0.5182661203684982, 2], [6.917601009312907, 4.752036229281206, -0.3355301887798907, 2], [8.06537850768648, 5.604815179756891, -0.3392831915711123, 2], [7.921111315341829, 5.631750774682387, -0.12737005219067488, 2], [7.446474927155973, 5.514484879628302, -0.45402762553519715, 2], [7.029531747423522, 4.951635594247207, -0.7537508880350368, 2], [7.266710849653434, 5.405811431346173, -0.5013710848800068, 2], [7.403306746827428, 5.443580535339719, 0.09139884732206216, 2], [6.892553994556918, 5.044291638837144, -0.26894306808247925, 2]]\n"
          ]
        }
      ]
    },
    {
      "cell_type": "code",
      "source": [
        "import pandas as pd"
      ],
      "metadata": {
        "id": "7sEobSj2zSh2"
      },
      "execution_count": null,
      "outputs": []
    },
    {
      "cell_type": "code",
      "source": [
        "data = pd.DataFrame(data)\n",
        "data"
      ],
      "metadata": {
        "colab": {
          "base_uri": "https://localhost:8080/",
          "height": 423
        },
        "id": "wQqMnP1zzVZC",
        "outputId": "7085a6d3-95df-42cd-ad55-fefb103f4f82"
      },
      "execution_count": null,
      "outputs": [
        {
          "output_type": "execute_result",
          "data": {
            "text/plain": [
              "            0         1         2  3\n",
              "0    2.818240  5.646350 -0.659768  0\n",
              "1    2.788223  5.149951 -0.842317  0\n",
              "2    2.613375  5.182003 -0.613952  0\n",
              "3    2.757022  5.008654 -0.600293  0\n",
              "4    2.773649  5.653707 -0.541773  0\n",
              "..        ...       ...       ... ..\n",
              "145  7.446475  5.514485 -0.454028  2\n",
              "146  7.029532  4.951636 -0.753751  2\n",
              "147  7.266711  5.405811 -0.501371  2\n",
              "148  7.403307  5.443581  0.091399  2\n",
              "149  6.892554  5.044292 -0.268943  2\n",
              "\n",
              "[150 rows x 4 columns]"
            ],
            "text/html": [
              "\n",
              "  <div id=\"df-756ace59-f814-4dae-8342-eaeb24670d12\" class=\"colab-df-container\">\n",
              "    <div>\n",
              "<style scoped>\n",
              "    .dataframe tbody tr th:only-of-type {\n",
              "        vertical-align: middle;\n",
              "    }\n",
              "\n",
              "    .dataframe tbody tr th {\n",
              "        vertical-align: top;\n",
              "    }\n",
              "\n",
              "    .dataframe thead th {\n",
              "        text-align: right;\n",
              "    }\n",
              "</style>\n",
              "<table border=\"1\" class=\"dataframe\">\n",
              "  <thead>\n",
              "    <tr style=\"text-align: right;\">\n",
              "      <th></th>\n",
              "      <th>0</th>\n",
              "      <th>1</th>\n",
              "      <th>2</th>\n",
              "      <th>3</th>\n",
              "    </tr>\n",
              "  </thead>\n",
              "  <tbody>\n",
              "    <tr>\n",
              "      <th>0</th>\n",
              "      <td>2.818240</td>\n",
              "      <td>5.646350</td>\n",
              "      <td>-0.659768</td>\n",
              "      <td>0</td>\n",
              "    </tr>\n",
              "    <tr>\n",
              "      <th>1</th>\n",
              "      <td>2.788223</td>\n",
              "      <td>5.149951</td>\n",
              "      <td>-0.842317</td>\n",
              "      <td>0</td>\n",
              "    </tr>\n",
              "    <tr>\n",
              "      <th>2</th>\n",
              "      <td>2.613375</td>\n",
              "      <td>5.182003</td>\n",
              "      <td>-0.613952</td>\n",
              "      <td>0</td>\n",
              "    </tr>\n",
              "    <tr>\n",
              "      <th>3</th>\n",
              "      <td>2.757022</td>\n",
              "      <td>5.008654</td>\n",
              "      <td>-0.600293</td>\n",
              "      <td>0</td>\n",
              "    </tr>\n",
              "    <tr>\n",
              "      <th>4</th>\n",
              "      <td>2.773649</td>\n",
              "      <td>5.653707</td>\n",
              "      <td>-0.541773</td>\n",
              "      <td>0</td>\n",
              "    </tr>\n",
              "    <tr>\n",
              "      <th>...</th>\n",
              "      <td>...</td>\n",
              "      <td>...</td>\n",
              "      <td>...</td>\n",
              "      <td>...</td>\n",
              "    </tr>\n",
              "    <tr>\n",
              "      <th>145</th>\n",
              "      <td>7.446475</td>\n",
              "      <td>5.514485</td>\n",
              "      <td>-0.454028</td>\n",
              "      <td>2</td>\n",
              "    </tr>\n",
              "    <tr>\n",
              "      <th>146</th>\n",
              "      <td>7.029532</td>\n",
              "      <td>4.951636</td>\n",
              "      <td>-0.753751</td>\n",
              "      <td>2</td>\n",
              "    </tr>\n",
              "    <tr>\n",
              "      <th>147</th>\n",
              "      <td>7.266711</td>\n",
              "      <td>5.405811</td>\n",
              "      <td>-0.501371</td>\n",
              "      <td>2</td>\n",
              "    </tr>\n",
              "    <tr>\n",
              "      <th>148</th>\n",
              "      <td>7.403307</td>\n",
              "      <td>5.443581</td>\n",
              "      <td>0.091399</td>\n",
              "      <td>2</td>\n",
              "    </tr>\n",
              "    <tr>\n",
              "      <th>149</th>\n",
              "      <td>6.892554</td>\n",
              "      <td>5.044292</td>\n",
              "      <td>-0.268943</td>\n",
              "      <td>2</td>\n",
              "    </tr>\n",
              "  </tbody>\n",
              "</table>\n",
              "<p>150 rows × 4 columns</p>\n",
              "</div>\n",
              "    <div class=\"colab-df-buttons\">\n",
              "\n",
              "  <div class=\"colab-df-container\">\n",
              "    <button class=\"colab-df-convert\" onclick=\"convertToInteractive('df-756ace59-f814-4dae-8342-eaeb24670d12')\"\n",
              "            title=\"Convert this dataframe to an interactive table.\"\n",
              "            style=\"display:none;\">\n",
              "\n",
              "  <svg xmlns=\"http://www.w3.org/2000/svg\" height=\"24px\" viewBox=\"0 -960 960 960\">\n",
              "    <path d=\"M120-120v-720h720v720H120Zm60-500h600v-160H180v160Zm220 220h160v-160H400v160Zm0 220h160v-160H400v160ZM180-400h160v-160H180v160Zm440 0h160v-160H620v160ZM180-180h160v-160H180v160Zm440 0h160v-160H620v160Z\"/>\n",
              "  </svg>\n",
              "    </button>\n",
              "\n",
              "  <style>\n",
              "    .colab-df-container {\n",
              "      display:flex;\n",
              "      gap: 12px;\n",
              "    }\n",
              "\n",
              "    .colab-df-convert {\n",
              "      background-color: #E8F0FE;\n",
              "      border: none;\n",
              "      border-radius: 50%;\n",
              "      cursor: pointer;\n",
              "      display: none;\n",
              "      fill: #1967D2;\n",
              "      height: 32px;\n",
              "      padding: 0 0 0 0;\n",
              "      width: 32px;\n",
              "    }\n",
              "\n",
              "    .colab-df-convert:hover {\n",
              "      background-color: #E2EBFA;\n",
              "      box-shadow: 0px 1px 2px rgba(60, 64, 67, 0.3), 0px 1px 3px 1px rgba(60, 64, 67, 0.15);\n",
              "      fill: #174EA6;\n",
              "    }\n",
              "\n",
              "    .colab-df-buttons div {\n",
              "      margin-bottom: 4px;\n",
              "    }\n",
              "\n",
              "    [theme=dark] .colab-df-convert {\n",
              "      background-color: #3B4455;\n",
              "      fill: #D2E3FC;\n",
              "    }\n",
              "\n",
              "    [theme=dark] .colab-df-convert:hover {\n",
              "      background-color: #434B5C;\n",
              "      box-shadow: 0px 1px 3px 1px rgba(0, 0, 0, 0.15);\n",
              "      filter: drop-shadow(0px 1px 2px rgba(0, 0, 0, 0.3));\n",
              "      fill: #FFFFFF;\n",
              "    }\n",
              "  </style>\n",
              "\n",
              "    <script>\n",
              "      const buttonEl =\n",
              "        document.querySelector('#df-756ace59-f814-4dae-8342-eaeb24670d12 button.colab-df-convert');\n",
              "      buttonEl.style.display =\n",
              "        google.colab.kernel.accessAllowed ? 'block' : 'none';\n",
              "\n",
              "      async function convertToInteractive(key) {\n",
              "        const element = document.querySelector('#df-756ace59-f814-4dae-8342-eaeb24670d12');\n",
              "        const dataTable =\n",
              "          await google.colab.kernel.invokeFunction('convertToInteractive',\n",
              "                                                    [key], {});\n",
              "        if (!dataTable) return;\n",
              "\n",
              "        const docLinkHtml = 'Like what you see? Visit the ' +\n",
              "          '<a target=\"_blank\" href=https://colab.research.google.com/notebooks/data_table.ipynb>data table notebook</a>'\n",
              "          + ' to learn more about interactive tables.';\n",
              "        element.innerHTML = '';\n",
              "        dataTable['output_type'] = 'display_data';\n",
              "        await google.colab.output.renderOutput(dataTable, element);\n",
              "        const docLink = document.createElement('div');\n",
              "        docLink.innerHTML = docLinkHtml;\n",
              "        element.appendChild(docLink);\n",
              "      }\n",
              "    </script>\n",
              "  </div>\n",
              "\n",
              "\n",
              "<div id=\"df-3c6d8daf-75b3-4196-9e6b-8cf45a87d211\">\n",
              "  <button class=\"colab-df-quickchart\" onclick=\"quickchart('df-3c6d8daf-75b3-4196-9e6b-8cf45a87d211')\"\n",
              "            title=\"Suggest charts\"\n",
              "            style=\"display:none;\">\n",
              "\n",
              "<svg xmlns=\"http://www.w3.org/2000/svg\" height=\"24px\"viewBox=\"0 0 24 24\"\n",
              "     width=\"24px\">\n",
              "    <g>\n",
              "        <path d=\"M19 3H5c-1.1 0-2 .9-2 2v14c0 1.1.9 2 2 2h14c1.1 0 2-.9 2-2V5c0-1.1-.9-2-2-2zM9 17H7v-7h2v7zm4 0h-2V7h2v10zm4 0h-2v-4h2v4z\"/>\n",
              "    </g>\n",
              "</svg>\n",
              "  </button>\n",
              "\n",
              "<style>\n",
              "  .colab-df-quickchart {\n",
              "      --bg-color: #E8F0FE;\n",
              "      --fill-color: #1967D2;\n",
              "      --hover-bg-color: #E2EBFA;\n",
              "      --hover-fill-color: #174EA6;\n",
              "      --disabled-fill-color: #AAA;\n",
              "      --disabled-bg-color: #DDD;\n",
              "  }\n",
              "\n",
              "  [theme=dark] .colab-df-quickchart {\n",
              "      --bg-color: #3B4455;\n",
              "      --fill-color: #D2E3FC;\n",
              "      --hover-bg-color: #434B5C;\n",
              "      --hover-fill-color: #FFFFFF;\n",
              "      --disabled-bg-color: #3B4455;\n",
              "      --disabled-fill-color: #666;\n",
              "  }\n",
              "\n",
              "  .colab-df-quickchart {\n",
              "    background-color: var(--bg-color);\n",
              "    border: none;\n",
              "    border-radius: 50%;\n",
              "    cursor: pointer;\n",
              "    display: none;\n",
              "    fill: var(--fill-color);\n",
              "    height: 32px;\n",
              "    padding: 0;\n",
              "    width: 32px;\n",
              "  }\n",
              "\n",
              "  .colab-df-quickchart:hover {\n",
              "    background-color: var(--hover-bg-color);\n",
              "    box-shadow: 0 1px 2px rgba(60, 64, 67, 0.3), 0 1px 3px 1px rgba(60, 64, 67, 0.15);\n",
              "    fill: var(--button-hover-fill-color);\n",
              "  }\n",
              "\n",
              "  .colab-df-quickchart-complete:disabled,\n",
              "  .colab-df-quickchart-complete:disabled:hover {\n",
              "    background-color: var(--disabled-bg-color);\n",
              "    fill: var(--disabled-fill-color);\n",
              "    box-shadow: none;\n",
              "  }\n",
              "\n",
              "  .colab-df-spinner {\n",
              "    border: 2px solid var(--fill-color);\n",
              "    border-color: transparent;\n",
              "    border-bottom-color: var(--fill-color);\n",
              "    animation:\n",
              "      spin 1s steps(1) infinite;\n",
              "  }\n",
              "\n",
              "  @keyframes spin {\n",
              "    0% {\n",
              "      border-color: transparent;\n",
              "      border-bottom-color: var(--fill-color);\n",
              "      border-left-color: var(--fill-color);\n",
              "    }\n",
              "    20% {\n",
              "      border-color: transparent;\n",
              "      border-left-color: var(--fill-color);\n",
              "      border-top-color: var(--fill-color);\n",
              "    }\n",
              "    30% {\n",
              "      border-color: transparent;\n",
              "      border-left-color: var(--fill-color);\n",
              "      border-top-color: var(--fill-color);\n",
              "      border-right-color: var(--fill-color);\n",
              "    }\n",
              "    40% {\n",
              "      border-color: transparent;\n",
              "      border-right-color: var(--fill-color);\n",
              "      border-top-color: var(--fill-color);\n",
              "    }\n",
              "    60% {\n",
              "      border-color: transparent;\n",
              "      border-right-color: var(--fill-color);\n",
              "    }\n",
              "    80% {\n",
              "      border-color: transparent;\n",
              "      border-right-color: var(--fill-color);\n",
              "      border-bottom-color: var(--fill-color);\n",
              "    }\n",
              "    90% {\n",
              "      border-color: transparent;\n",
              "      border-bottom-color: var(--fill-color);\n",
              "    }\n",
              "  }\n",
              "</style>\n",
              "\n",
              "  <script>\n",
              "    async function quickchart(key) {\n",
              "      const quickchartButtonEl =\n",
              "        document.querySelector('#' + key + ' button');\n",
              "      quickchartButtonEl.disabled = true;  // To prevent multiple clicks.\n",
              "      quickchartButtonEl.classList.add('colab-df-spinner');\n",
              "      try {\n",
              "        const charts = await google.colab.kernel.invokeFunction(\n",
              "            'suggestCharts', [key], {});\n",
              "      } catch (error) {\n",
              "        console.error('Error during call to suggestCharts:', error);\n",
              "      }\n",
              "      quickchartButtonEl.classList.remove('colab-df-spinner');\n",
              "      quickchartButtonEl.classList.add('colab-df-quickchart-complete');\n",
              "    }\n",
              "    (() => {\n",
              "      let quickchartButtonEl =\n",
              "        document.querySelector('#df-3c6d8daf-75b3-4196-9e6b-8cf45a87d211 button');\n",
              "      quickchartButtonEl.style.display =\n",
              "        google.colab.kernel.accessAllowed ? 'block' : 'none';\n",
              "    })();\n",
              "  </script>\n",
              "</div>\n",
              "\n",
              "  <div id=\"id_3c6a37ca-7cd6-4c71-894c-92b4791fcaa4\">\n",
              "    <style>\n",
              "      .colab-df-generate {\n",
              "        background-color: #E8F0FE;\n",
              "        border: none;\n",
              "        border-radius: 50%;\n",
              "        cursor: pointer;\n",
              "        display: none;\n",
              "        fill: #1967D2;\n",
              "        height: 32px;\n",
              "        padding: 0 0 0 0;\n",
              "        width: 32px;\n",
              "      }\n",
              "\n",
              "      .colab-df-generate:hover {\n",
              "        background-color: #E2EBFA;\n",
              "        box-shadow: 0px 1px 2px rgba(60, 64, 67, 0.3), 0px 1px 3px 1px rgba(60, 64, 67, 0.15);\n",
              "        fill: #174EA6;\n",
              "      }\n",
              "\n",
              "      [theme=dark] .colab-df-generate {\n",
              "        background-color: #3B4455;\n",
              "        fill: #D2E3FC;\n",
              "      }\n",
              "\n",
              "      [theme=dark] .colab-df-generate:hover {\n",
              "        background-color: #434B5C;\n",
              "        box-shadow: 0px 1px 3px 1px rgba(0, 0, 0, 0.15);\n",
              "        filter: drop-shadow(0px 1px 2px rgba(0, 0, 0, 0.3));\n",
              "        fill: #FFFFFF;\n",
              "      }\n",
              "    </style>\n",
              "    <button class=\"colab-df-generate\" onclick=\"generateWithVariable('data')\"\n",
              "            title=\"Generate code using this dataframe.\"\n",
              "            style=\"display:none;\">\n",
              "\n",
              "  <svg xmlns=\"http://www.w3.org/2000/svg\" height=\"24px\"viewBox=\"0 0 24 24\"\n",
              "       width=\"24px\">\n",
              "    <path d=\"M7,19H8.4L18.45,9,17,7.55,7,17.6ZM5,21V16.75L18.45,3.32a2,2,0,0,1,2.83,0l1.4,1.43a1.91,1.91,0,0,1,.58,1.4,1.91,1.91,0,0,1-.58,1.4L9.25,21ZM18.45,9,17,7.55Zm-12,3A5.31,5.31,0,0,0,4.9,8.1,5.31,5.31,0,0,0,1,6.5,5.31,5.31,0,0,0,4.9,4.9,5.31,5.31,0,0,0,6.5,1,5.31,5.31,0,0,0,8.1,4.9,5.31,5.31,0,0,0,12,6.5,5.46,5.46,0,0,0,6.5,12Z\"/>\n",
              "  </svg>\n",
              "    </button>\n",
              "    <script>\n",
              "      (() => {\n",
              "      const buttonEl =\n",
              "        document.querySelector('#id_3c6a37ca-7cd6-4c71-894c-92b4791fcaa4 button.colab-df-generate');\n",
              "      buttonEl.style.display =\n",
              "        google.colab.kernel.accessAllowed ? 'block' : 'none';\n",
              "\n",
              "      buttonEl.onclick = () => {\n",
              "        google.colab.notebook.generateWithVariable('data');\n",
              "      }\n",
              "      })();\n",
              "    </script>\n",
              "  </div>\n",
              "\n",
              "    </div>\n",
              "  </div>\n"
            ],
            "application/vnd.google.colaboratory.intrinsic+json": {
              "type": "dataframe",
              "variable_name": "data",
              "summary": "{\n  \"name\": \"data\",\n  \"rows\": 150,\n  \"fields\": [\n    {\n      \"column\": 0,\n      \"properties\": {\n        \"dtype\": \"number\",\n        \"std\": 2.0562688798002227,\n        \"min\": 2.278561388743353,\n        \"max\": 9.298010554681888,\n        \"num_unique_values\": 149,\n        \"samples\": [\n          6.424094055056041,\n          3.302544808991425,\n          8.989420496899282\n        ],\n        \"semantic_type\": \"\",\n        \"description\": \"\"\n      }\n    },\n    {\n      \"column\": 1,\n      \"properties\": {\n        \"dtype\": \"number\",\n        \"std\": 0.49261622783728265,\n        \"min\": 4.060981386301302,\n        \"max\": 6.701117663620744,\n        \"num_unique_values\": 149,\n        \"samples\": [\n          5.144214783206328,\n          6.1997916157899065,\n          6.502691906541125\n        ],\n        \"semantic_type\": \"\",\n        \"description\": \"\"\n      }\n    },\n    {\n      \"column\": 2,\n      \"properties\": {\n        \"dtype\": \"number\",\n        \"std\": 0.27965961460840094,\n        \"min\": -1.325999546312274,\n        \"max\": 0.1283127110780402,\n        \"num_unique_values\": 149,\n        \"samples\": [\n          -0.8629244939041399,\n          -0.7521582395625861,\n          -0.49795784223175676\n        ],\n        \"semantic_type\": \"\",\n        \"description\": \"\"\n      }\n    },\n    {\n      \"column\": 3,\n      \"properties\": {\n        \"dtype\": \"number\",\n        \"std\": 0,\n        \"min\": 0,\n        \"max\": 2,\n        \"num_unique_values\": 3,\n        \"samples\": [\n          0,\n          1,\n          2\n        ],\n        \"semantic_type\": \"\",\n        \"description\": \"\"\n      }\n    }\n  ]\n}"
            }
          },
          "metadata": {},
          "execution_count": 42
        }
      ]
    },
    {
      "cell_type": "code",
      "source": [
        "# shuffling the data with a constant random state\n",
        "data = data.sample(frac = 1, random_state = 0)\n",
        "# reset the indices to be in order\n",
        "data = data.reset_index(drop = True)\n",
        "data.head()"
      ],
      "metadata": {
        "colab": {
          "base_uri": "https://localhost:8080/",
          "height": 206
        },
        "id": "CYpR4AqVzXDQ",
        "outputId": "230141b1-4d5c-4ae3-8a76-2570be861844"
      },
      "execution_count": null,
      "outputs": [
        {
          "output_type": "execute_result",
          "data": {
            "text/plain": [
              "          0         1         2  3\n",
              "0  7.088293  4.787312 -0.002823  2\n",
              "1  5.767342  4.776916 -1.326000  1\n",
              "2  2.903628  6.420098 -0.474042  0\n",
              "3  8.434952  5.682453 -1.052093  2\n",
              "4  2.876220  5.490338 -0.653732  0"
            ],
            "text/html": [
              "\n",
              "  <div id=\"df-276545e0-f42f-4843-b4c1-4fd48b51603c\" class=\"colab-df-container\">\n",
              "    <div>\n",
              "<style scoped>\n",
              "    .dataframe tbody tr th:only-of-type {\n",
              "        vertical-align: middle;\n",
              "    }\n",
              "\n",
              "    .dataframe tbody tr th {\n",
              "        vertical-align: top;\n",
              "    }\n",
              "\n",
              "    .dataframe thead th {\n",
              "        text-align: right;\n",
              "    }\n",
              "</style>\n",
              "<table border=\"1\" class=\"dataframe\">\n",
              "  <thead>\n",
              "    <tr style=\"text-align: right;\">\n",
              "      <th></th>\n",
              "      <th>0</th>\n",
              "      <th>1</th>\n",
              "      <th>2</th>\n",
              "      <th>3</th>\n",
              "    </tr>\n",
              "  </thead>\n",
              "  <tbody>\n",
              "    <tr>\n",
              "      <th>0</th>\n",
              "      <td>7.088293</td>\n",
              "      <td>4.787312</td>\n",
              "      <td>-0.002823</td>\n",
              "      <td>2</td>\n",
              "    </tr>\n",
              "    <tr>\n",
              "      <th>1</th>\n",
              "      <td>5.767342</td>\n",
              "      <td>4.776916</td>\n",
              "      <td>-1.326000</td>\n",
              "      <td>1</td>\n",
              "    </tr>\n",
              "    <tr>\n",
              "      <th>2</th>\n",
              "      <td>2.903628</td>\n",
              "      <td>6.420098</td>\n",
              "      <td>-0.474042</td>\n",
              "      <td>0</td>\n",
              "    </tr>\n",
              "    <tr>\n",
              "      <th>3</th>\n",
              "      <td>8.434952</td>\n",
              "      <td>5.682453</td>\n",
              "      <td>-1.052093</td>\n",
              "      <td>2</td>\n",
              "    </tr>\n",
              "    <tr>\n",
              "      <th>4</th>\n",
              "      <td>2.876220</td>\n",
              "      <td>5.490338</td>\n",
              "      <td>-0.653732</td>\n",
              "      <td>0</td>\n",
              "    </tr>\n",
              "  </tbody>\n",
              "</table>\n",
              "</div>\n",
              "    <div class=\"colab-df-buttons\">\n",
              "\n",
              "  <div class=\"colab-df-container\">\n",
              "    <button class=\"colab-df-convert\" onclick=\"convertToInteractive('df-276545e0-f42f-4843-b4c1-4fd48b51603c')\"\n",
              "            title=\"Convert this dataframe to an interactive table.\"\n",
              "            style=\"display:none;\">\n",
              "\n",
              "  <svg xmlns=\"http://www.w3.org/2000/svg\" height=\"24px\" viewBox=\"0 -960 960 960\">\n",
              "    <path d=\"M120-120v-720h720v720H120Zm60-500h600v-160H180v160Zm220 220h160v-160H400v160Zm0 220h160v-160H400v160ZM180-400h160v-160H180v160Zm440 0h160v-160H620v160ZM180-180h160v-160H180v160Zm440 0h160v-160H620v160Z\"/>\n",
              "  </svg>\n",
              "    </button>\n",
              "\n",
              "  <style>\n",
              "    .colab-df-container {\n",
              "      display:flex;\n",
              "      gap: 12px;\n",
              "    }\n",
              "\n",
              "    .colab-df-convert {\n",
              "      background-color: #E8F0FE;\n",
              "      border: none;\n",
              "      border-radius: 50%;\n",
              "      cursor: pointer;\n",
              "      display: none;\n",
              "      fill: #1967D2;\n",
              "      height: 32px;\n",
              "      padding: 0 0 0 0;\n",
              "      width: 32px;\n",
              "    }\n",
              "\n",
              "    .colab-df-convert:hover {\n",
              "      background-color: #E2EBFA;\n",
              "      box-shadow: 0px 1px 2px rgba(60, 64, 67, 0.3), 0px 1px 3px 1px rgba(60, 64, 67, 0.15);\n",
              "      fill: #174EA6;\n",
              "    }\n",
              "\n",
              "    .colab-df-buttons div {\n",
              "      margin-bottom: 4px;\n",
              "    }\n",
              "\n",
              "    [theme=dark] .colab-df-convert {\n",
              "      background-color: #3B4455;\n",
              "      fill: #D2E3FC;\n",
              "    }\n",
              "\n",
              "    [theme=dark] .colab-df-convert:hover {\n",
              "      background-color: #434B5C;\n",
              "      box-shadow: 0px 1px 3px 1px rgba(0, 0, 0, 0.15);\n",
              "      filter: drop-shadow(0px 1px 2px rgba(0, 0, 0, 0.3));\n",
              "      fill: #FFFFFF;\n",
              "    }\n",
              "  </style>\n",
              "\n",
              "    <script>\n",
              "      const buttonEl =\n",
              "        document.querySelector('#df-276545e0-f42f-4843-b4c1-4fd48b51603c button.colab-df-convert');\n",
              "      buttonEl.style.display =\n",
              "        google.colab.kernel.accessAllowed ? 'block' : 'none';\n",
              "\n",
              "      async function convertToInteractive(key) {\n",
              "        const element = document.querySelector('#df-276545e0-f42f-4843-b4c1-4fd48b51603c');\n",
              "        const dataTable =\n",
              "          await google.colab.kernel.invokeFunction('convertToInteractive',\n",
              "                                                    [key], {});\n",
              "        if (!dataTable) return;\n",
              "\n",
              "        const docLinkHtml = 'Like what you see? Visit the ' +\n",
              "          '<a target=\"_blank\" href=https://colab.research.google.com/notebooks/data_table.ipynb>data table notebook</a>'\n",
              "          + ' to learn more about interactive tables.';\n",
              "        element.innerHTML = '';\n",
              "        dataTable['output_type'] = 'display_data';\n",
              "        await google.colab.output.renderOutput(dataTable, element);\n",
              "        const docLink = document.createElement('div');\n",
              "        docLink.innerHTML = docLinkHtml;\n",
              "        element.appendChild(docLink);\n",
              "      }\n",
              "    </script>\n",
              "  </div>\n",
              "\n",
              "\n",
              "<div id=\"df-ebdad34f-75e3-4ece-886f-d9c8d077a06e\">\n",
              "  <button class=\"colab-df-quickchart\" onclick=\"quickchart('df-ebdad34f-75e3-4ece-886f-d9c8d077a06e')\"\n",
              "            title=\"Suggest charts\"\n",
              "            style=\"display:none;\">\n",
              "\n",
              "<svg xmlns=\"http://www.w3.org/2000/svg\" height=\"24px\"viewBox=\"0 0 24 24\"\n",
              "     width=\"24px\">\n",
              "    <g>\n",
              "        <path d=\"M19 3H5c-1.1 0-2 .9-2 2v14c0 1.1.9 2 2 2h14c1.1 0 2-.9 2-2V5c0-1.1-.9-2-2-2zM9 17H7v-7h2v7zm4 0h-2V7h2v10zm4 0h-2v-4h2v4z\"/>\n",
              "    </g>\n",
              "</svg>\n",
              "  </button>\n",
              "\n",
              "<style>\n",
              "  .colab-df-quickchart {\n",
              "      --bg-color: #E8F0FE;\n",
              "      --fill-color: #1967D2;\n",
              "      --hover-bg-color: #E2EBFA;\n",
              "      --hover-fill-color: #174EA6;\n",
              "      --disabled-fill-color: #AAA;\n",
              "      --disabled-bg-color: #DDD;\n",
              "  }\n",
              "\n",
              "  [theme=dark] .colab-df-quickchart {\n",
              "      --bg-color: #3B4455;\n",
              "      --fill-color: #D2E3FC;\n",
              "      --hover-bg-color: #434B5C;\n",
              "      --hover-fill-color: #FFFFFF;\n",
              "      --disabled-bg-color: #3B4455;\n",
              "      --disabled-fill-color: #666;\n",
              "  }\n",
              "\n",
              "  .colab-df-quickchart {\n",
              "    background-color: var(--bg-color);\n",
              "    border: none;\n",
              "    border-radius: 50%;\n",
              "    cursor: pointer;\n",
              "    display: none;\n",
              "    fill: var(--fill-color);\n",
              "    height: 32px;\n",
              "    padding: 0;\n",
              "    width: 32px;\n",
              "  }\n",
              "\n",
              "  .colab-df-quickchart:hover {\n",
              "    background-color: var(--hover-bg-color);\n",
              "    box-shadow: 0 1px 2px rgba(60, 64, 67, 0.3), 0 1px 3px 1px rgba(60, 64, 67, 0.15);\n",
              "    fill: var(--button-hover-fill-color);\n",
              "  }\n",
              "\n",
              "  .colab-df-quickchart-complete:disabled,\n",
              "  .colab-df-quickchart-complete:disabled:hover {\n",
              "    background-color: var(--disabled-bg-color);\n",
              "    fill: var(--disabled-fill-color);\n",
              "    box-shadow: none;\n",
              "  }\n",
              "\n",
              "  .colab-df-spinner {\n",
              "    border: 2px solid var(--fill-color);\n",
              "    border-color: transparent;\n",
              "    border-bottom-color: var(--fill-color);\n",
              "    animation:\n",
              "      spin 1s steps(1) infinite;\n",
              "  }\n",
              "\n",
              "  @keyframes spin {\n",
              "    0% {\n",
              "      border-color: transparent;\n",
              "      border-bottom-color: var(--fill-color);\n",
              "      border-left-color: var(--fill-color);\n",
              "    }\n",
              "    20% {\n",
              "      border-color: transparent;\n",
              "      border-left-color: var(--fill-color);\n",
              "      border-top-color: var(--fill-color);\n",
              "    }\n",
              "    30% {\n",
              "      border-color: transparent;\n",
              "      border-left-color: var(--fill-color);\n",
              "      border-top-color: var(--fill-color);\n",
              "      border-right-color: var(--fill-color);\n",
              "    }\n",
              "    40% {\n",
              "      border-color: transparent;\n",
              "      border-right-color: var(--fill-color);\n",
              "      border-top-color: var(--fill-color);\n",
              "    }\n",
              "    60% {\n",
              "      border-color: transparent;\n",
              "      border-right-color: var(--fill-color);\n",
              "    }\n",
              "    80% {\n",
              "      border-color: transparent;\n",
              "      border-right-color: var(--fill-color);\n",
              "      border-bottom-color: var(--fill-color);\n",
              "    }\n",
              "    90% {\n",
              "      border-color: transparent;\n",
              "      border-bottom-color: var(--fill-color);\n",
              "    }\n",
              "  }\n",
              "</style>\n",
              "\n",
              "  <script>\n",
              "    async function quickchart(key) {\n",
              "      const quickchartButtonEl =\n",
              "        document.querySelector('#' + key + ' button');\n",
              "      quickchartButtonEl.disabled = true;  // To prevent multiple clicks.\n",
              "      quickchartButtonEl.classList.add('colab-df-spinner');\n",
              "      try {\n",
              "        const charts = await google.colab.kernel.invokeFunction(\n",
              "            'suggestCharts', [key], {});\n",
              "      } catch (error) {\n",
              "        console.error('Error during call to suggestCharts:', error);\n",
              "      }\n",
              "      quickchartButtonEl.classList.remove('colab-df-spinner');\n",
              "      quickchartButtonEl.classList.add('colab-df-quickchart-complete');\n",
              "    }\n",
              "    (() => {\n",
              "      let quickchartButtonEl =\n",
              "        document.querySelector('#df-ebdad34f-75e3-4ece-886f-d9c8d077a06e button');\n",
              "      quickchartButtonEl.style.display =\n",
              "        google.colab.kernel.accessAllowed ? 'block' : 'none';\n",
              "    })();\n",
              "  </script>\n",
              "</div>\n",
              "\n",
              "    </div>\n",
              "  </div>\n"
            ],
            "application/vnd.google.colaboratory.intrinsic+json": {
              "type": "dataframe",
              "variable_name": "data",
              "summary": "{\n  \"name\": \"data\",\n  \"rows\": 150,\n  \"fields\": [\n    {\n      \"column\": 0,\n      \"properties\": {\n        \"dtype\": \"number\",\n        \"std\": 2.0562688798002227,\n        \"min\": 2.278561388743353,\n        \"max\": 9.298010554681888,\n        \"num_unique_values\": 149,\n        \"samples\": [\n          3.1163260990778716,\n          2.787913705851298,\n          6.430225913553252\n        ],\n        \"semantic_type\": \"\",\n        \"description\": \"\"\n      }\n    },\n    {\n      \"column\": 1,\n      \"properties\": {\n        \"dtype\": \"number\",\n        \"std\": 0.49261622783728265,\n        \"min\": 4.060981386301302,\n        \"max\": 6.701117663620744,\n        \"num_unique_values\": 149,\n        \"samples\": [\n          6.665014907228348,\n          5.076744372642485,\n          5.794132071269207\n        ],\n        \"semantic_type\": \"\",\n        \"description\": \"\"\n      }\n    },\n    {\n      \"column\": 2,\n      \"properties\": {\n        \"dtype\": \"number\",\n        \"std\": 0.27965961460840094,\n        \"min\": -1.325999546312274,\n        \"max\": 0.1283127110780402,\n        \"num_unique_values\": 149,\n        \"samples\": [\n          -0.3540758134647197,\n          -0.7295308602134849,\n          -0.9464736920000273\n        ],\n        \"semantic_type\": \"\",\n        \"description\": \"\"\n      }\n    },\n    {\n      \"column\": 3,\n      \"properties\": {\n        \"dtype\": \"number\",\n        \"std\": 0,\n        \"min\": 0,\n        \"max\": 2,\n        \"num_unique_values\": 3,\n        \"samples\": [\n          2,\n          1,\n          0\n        ],\n        \"semantic_type\": \"\",\n        \"description\": \"\"\n      }\n    }\n  ]\n}"
            }
          },
          "metadata": {},
          "execution_count": 43
        }
      ]
    },
    {
      "cell_type": "code",
      "source": [
        "# use everything but the last 10 as training data\n",
        "train_X = data.iloc[:-10, :-1]\n",
        "train_y = data.iloc[:-10, -1]\n",
        "# and the last 10 as just the training data\n",
        "test_X = data.iloc[-10:, :-1]\n",
        "test_y = data.iloc[-10:, -1]"
      ],
      "metadata": {
        "id": "vJi9q1anz00i"
      },
      "execution_count": null,
      "outputs": []
    },
    {
      "cell_type": "code",
      "source": [
        "from sklearn.linear_model import LogisticRegression"
      ],
      "metadata": {
        "id": "GJcDa8F-0RU1"
      },
      "execution_count": null,
      "outputs": []
    },
    {
      "cell_type": "code",
      "source": [
        "log_reg = LogisticRegression()\n",
        "log_reg = log_reg.fit(train_X, train_y)\n",
        "log_reg.score(test_X, test_y)"
      ],
      "metadata": {
        "id": "ZpGxR-0J0VSq",
        "outputId": "7bbd7180-f81d-47b1-b8d1-b20f9c43be54",
        "colab": {
          "base_uri": "https://localhost:8080/"
        }
      },
      "execution_count": null,
      "outputs": [
        {
          "output_type": "execute_result",
          "data": {
            "text/plain": [
              "0.9"
            ]
          },
          "metadata": {},
          "execution_count": 46
        }
      ]
    },
    {
      "cell_type": "code",
      "source": [],
      "metadata": {
        "id": "tzWUgz5x0aGW"
      },
      "execution_count": null,
      "outputs": []
    }
  ]
}