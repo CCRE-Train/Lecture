{
  "nbformat": 4,
  "nbformat_minor": 0,
  "metadata": {
    "colab": {
      "provenance": []
    },
    "kernelspec": {
      "name": "python3",
      "display_name": "Python 3"
    },
    "language_info": {
      "name": "python"
    }
  },
  "cells": [
    {
      "cell_type": "code",
      "execution_count": null,
      "metadata": {
        "id": "3zn60UCElS44"
      },
      "outputs": [],
      "source": [
        "from sklearn.datasets import load_iris"
      ]
    },
    {
      "cell_type": "code",
      "source": [
        "x,y = load_iris(return_X_y = True)"
      ],
      "metadata": {
        "id": "dvNVbf79nMrG"
      },
      "execution_count": null,
      "outputs": []
    },
    {
      "cell_type": "code",
      "source": [
        "data = []\n",
        "\n",
        "for i in range(150):\n",
        "  sample = list(x[i])+[y[i]]\n",
        "  data.append(sample)\n",
        "\n",
        "print(data[0])"
      ],
      "metadata": {
        "colab": {
          "base_uri": "https://localhost:8080/"
        },
        "id": "VzTJX1hMnYHM",
        "outputId": "6b4d387f-4c16-408c-a9ed-3cbf91452e2f"
      },
      "execution_count": null,
      "outputs": [
        {
          "output_type": "stream",
          "name": "stdout",
          "text": [
            "[5.1, 3.5, 1.4, 0.2, 0]\n"
          ]
        }
      ]
    },
    {
      "cell_type": "code",
      "source": [
        "set(y)"
      ],
      "metadata": {
        "colab": {
          "base_uri": "https://localhost:8080/"
        },
        "id": "ujmMvZBYnZtH",
        "outputId": "0348d68c-3589-4aa7-9625-09639fa07dc1"
      },
      "execution_count": null,
      "outputs": [
        {
          "output_type": "execute_result",
          "data": {
            "text/plain": [
              "{0, 1, 2}"
            ]
          },
          "metadata": {},
          "execution_count": 8
        }
      ]
    },
    {
      "cell_type": "code",
      "source": [
        "import random\n",
        "\n",
        "random.seed(42)\n",
        "random.shuffle(data)"
      ],
      "metadata": {
        "id": "BbW8C0lloTy5"
      },
      "execution_count": null,
      "outputs": []
    },
    {
      "cell_type": "code",
      "source": [
        "data[0]"
      ],
      "metadata": {
        "colab": {
          "base_uri": "https://localhost:8080/"
        },
        "id": "7CCdt9iKopR3",
        "outputId": "1179d899-231b-4dc8-ab71-881941657016"
      },
      "execution_count": null,
      "outputs": [
        {
          "output_type": "execute_result",
          "data": {
            "text/plain": [
              "[6.1, 2.9, 4.7, 1.4, 1]"
            ]
          },
          "metadata": {},
          "execution_count": 10
        }
      ]
    },
    {
      "cell_type": "code",
      "source": [
        "x=[]\n",
        "y=[]\n",
        "for line in data:\n",
        "  x.append(line[0:4]) # line[:-1]\n",
        "  y.append(line[4]) # line[-1]"
      ],
      "metadata": {
        "id": "KjCGpYNuorPn"
      },
      "execution_count": null,
      "outputs": []
    },
    {
      "cell_type": "code",
      "source": [
        "from sklearn.linear_model import LogisticRegression\n",
        "LogReg = LogisticRegression()"
      ],
      "metadata": {
        "id": "IE0PlRh0o1Bp"
      },
      "execution_count": null,
      "outputs": []
    },
    {
      "cell_type": "code",
      "source": [
        "test_x = x[-10:]\n",
        "test_y = y[-10:]\n",
        "train_x = x[:-10]\n",
        "train_y = y[:-10]"
      ],
      "metadata": {
        "id": "hXQ6-U86pkLF"
      },
      "execution_count": null,
      "outputs": []
    },
    {
      "cell_type": "code",
      "source": [
        "LogReg = LogReg.fit(train_x, train_y)"
      ],
      "metadata": {
        "id": "MWQrHmX9ql__"
      },
      "execution_count": null,
      "outputs": []
    },
    {
      "cell_type": "code",
      "source": [
        "predicted_y = LogReg.predict(test_x)\n",
        "predicted_y"
      ],
      "metadata": {
        "colab": {
          "base_uri": "https://localhost:8080/"
        },
        "id": "tz7E2cFWqq4m",
        "outputId": "4b4dbb5c-3677-4a6e-aaaa-eba77b346431"
      },
      "execution_count": null,
      "outputs": [
        {
          "output_type": "execute_result",
          "data": {
            "text/plain": [
              "array([2, 0, 2, 0, 0, 1, 1, 2, 0, 0])"
            ]
          },
          "metadata": {},
          "execution_count": 18
        }
      ]
    },
    {
      "cell_type": "code",
      "source": [
        "test_y\n",
        "# Iris 0 -> Iris Setosa\n",
        "# Iris 1 -> Iris Versicolour\n",
        "# Iris 2 -> Iris Virginica"
      ],
      "metadata": {
        "colab": {
          "base_uri": "https://localhost:8080/"
        },
        "id": "qWp-qYkFq9s-",
        "outputId": "90e7f4c8-361a-4389-c343-c932132931c3"
      },
      "execution_count": null,
      "outputs": [
        {
          "output_type": "execute_result",
          "data": {
            "text/plain": [
              "[2, 0, 2, 0, 0, 1, 1, 1, 0, 0]"
            ]
          },
          "metadata": {},
          "execution_count": 20
        }
      ]
    },
    {
      "cell_type": "code",
      "source": [
        "# index 0 -> Sepal Length\n",
        "# index 1 -> Sepal Width\n",
        "# index 2 -> Petal Length\n",
        "# index 3 -> Petal Wdith"
      ],
      "metadata": {
        "id": "oT_jbwfGq_ZF"
      },
      "execution_count": null,
      "outputs": []
    },
    {
      "cell_type": "code",
      "source": [
        "from sklearn.linear_model import LinearRegression\n",
        "LinReg = LinearRegression()"
      ],
      "metadata": {
        "id": "zjsj7a4Ertvw"
      },
      "execution_count": null,
      "outputs": []
    },
    {
      "cell_type": "code",
      "source": [
        "new_train_x = []\n",
        "new_train_y = []\n",
        "new_test_x = []\n",
        "new_test_y = []\n",
        "\n",
        "for line in train_x:\n",
        "  new_train_x.append(line[:-1])\n",
        "  new_train_y.append(line[-1])\n",
        "\n",
        "for line in test_x:\n",
        "  new_test_x.append(line[0:3])\n",
        "  new_test_y.append(line[3])"
      ],
      "metadata": {
        "id": "cl_Jl1APsAhr"
      },
      "execution_count": null,
      "outputs": []
    },
    {
      "cell_type": "code",
      "source": [
        "LinReg = LinReg.fit(new_train_x, new_train_y)"
      ],
      "metadata": {
        "id": "c2_vFvptsuEH"
      },
      "execution_count": null,
      "outputs": []
    },
    {
      "cell_type": "code",
      "source": [
        "new_predicted_y = LinReg.predict(new_test_x)\n",
        "new_predicted_y"
      ],
      "metadata": {
        "colab": {
          "base_uri": "https://localhost:8080/"
        },
        "id": "SDYILT69s6cG",
        "outputId": "db3b00d3-ba3f-45b8-8fda-eb6d9946756f"
      },
      "execution_count": null,
      "outputs": [
        {
          "output_type": "execute_result",
          "data": {
            "text/plain": [
              "array([1.97288016, 0.12249963, 1.84910479, 0.31234333, 0.0605483 ,\n",
              "       1.01196818, 1.11040979, 1.76136534, 0.28974454, 0.16650275])"
            ]
          },
          "metadata": {},
          "execution_count": 25
        }
      ]
    },
    {
      "cell_type": "code",
      "source": [
        "new_test_y"
      ],
      "metadata": {
        "colab": {
          "base_uri": "https://localhost:8080/"
        },
        "id": "Jmd0lkJRtDTN",
        "outputId": "39736c4f-88fe-4f37-e36f-42518160083d"
      },
      "execution_count": null,
      "outputs": [
        {
          "output_type": "execute_result",
          "data": {
            "text/plain": [
              "[1.8, 0.2, 2.1, 0.4, 0.2, 1.0, 1.0, 1.8, 0.3, 0.2]"
            ]
          },
          "metadata": {},
          "execution_count": 26
        }
      ]
    },
    {
      "cell_type": "code",
      "source": [
        "LinReg.score(new_test_x, new_test_y)"
      ],
      "metadata": {
        "colab": {
          "base_uri": "https://localhost:8080/"
        },
        "id": "bAPrKeYgtGLV",
        "outputId": "cc1fcdf7-dcd3-40e1-bece-c30749dbac27"
      },
      "execution_count": null,
      "outputs": [
        {
          "output_type": "execute_result",
          "data": {
            "text/plain": [
              "0.9726693475264296"
            ]
          },
          "metadata": {},
          "execution_count": 27
        }
      ]
    },
    {
      "cell_type": "code",
      "source": [],
      "metadata": {
        "id": "npcelHCKtQ4j"
      },
      "execution_count": null,
      "outputs": []
    }
  ]
}