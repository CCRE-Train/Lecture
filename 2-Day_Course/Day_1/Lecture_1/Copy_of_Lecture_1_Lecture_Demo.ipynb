{
  "nbformat": 4,
  "nbformat_minor": 0,
  "metadata": {
    "colab": {
      "provenance": []
    },
    "kernelspec": {
      "name": "python3",
      "display_name": "Python 3"
    },
    "language_info": {
      "name": "python"
    }
  },
  "cells": [
    {
      "cell_type": "markdown",
      "source": [
        "Welcome to Google Colab. <br> This is a text block and this can be used to organize sections of code."
      ],
      "metadata": {
        "id": "PvICWwQyrfHS"
      }
    },
    {
      "cell_type": "markdown",
      "source": [
        "Variable Self Test\n",
        "\n"
      ],
      "metadata": {
        "id": "_VpJfcWDAawd"
      }
    },
    {
      "cell_type": "code",
      "source": [
        "variable_a = 25\n",
        "variable_b = 70\n",
        "variable_a = 40\n",
        "variable_b = variable_a\n",
        "print(variable_b)"
      ],
      "metadata": {
        "id": "qJAtBGuGbzjs",
        "colab": {
          "base_uri": "https://localhost:8080/"
        },
        "outputId": "0f07a22e-9b04-4a4e-ca66-402261108664"
      },
      "execution_count": null,
      "outputs": [
        {
          "output_type": "stream",
          "name": "stdout",
          "text": [
            "40\n"
          ]
        }
      ]
    },
    {
      "cell_type": "markdown",
      "source": [
        "Testing with strings. Double quotes, single quotes, and multiline strings using three quotations."
      ],
      "metadata": {
        "id": "neUfoqYZAg2C"
      }
    },
    {
      "cell_type": "code",
      "source": [
        "#strings here\n",
        "my_str=\"hi!\"\n",
        "print(my_str)\n",
        "str2='sunday'\n",
        "print(str2)\n",
        "str3=\"\"\"my name\n",
        "is aiBridge\"\"\"\n",
        "print(str3)"
      ],
      "metadata": {
        "id": "BeKOORSdchx5",
        "colab": {
          "base_uri": "https://localhost:8080/"
        },
        "outputId": "9a0c1bb5-39e8-45da-d598-edd6cf766381"
      },
      "execution_count": null,
      "outputs": [
        {
          "output_type": "stream",
          "name": "stdout",
          "text": [
            "hi!\n",
            "sunday\n",
            "my name \n",
            "is aiBridge\n"
          ]
        }
      ]
    },
    {
      "cell_type": "markdown",
      "source": [
        "Testing with lists. Trying out single indexing using both positive and negative indexes."
      ],
      "metadata": {
        "id": "aWLPim-hAn40"
      }
    },
    {
      "cell_type": "code",
      "source": [
        "my_second_list = [\"hello world\", True, 5]\n",
        "print(my_second_list[0]) #positive index\n",
        "print(my_second_list[-3]) #negative index"
      ],
      "metadata": {
        "id": "SdOzSnXQdWJX",
        "colab": {
          "base_uri": "https://localhost:8080/"
        },
        "outputId": "8cb40915-852b-458e-f697-8752b87cc09f"
      },
      "execution_count": null,
      "outputs": [
        {
          "output_type": "stream",
          "name": "stdout",
          "text": [
            "hello world\n",
            "hello world\n"
          ]
        }
      ]
    },
    {
      "cell_type": "markdown",
      "source": [
        "List Self Test"
      ],
      "metadata": {
        "id": "XBwKx3qcA0t8"
      }
    },
    {
      "cell_type": "code",
      "source": [
        "my_list = [21, 22, 23, 24, 25]\n",
        "value = my_list[2]\n",
        "print(value)"
      ],
      "metadata": {
        "id": "4FoM9bxQd1MA",
        "colab": {
          "base_uri": "https://localhost:8080/"
        },
        "outputId": "ccd3235b-80a8-4517-94c9-8b5342faa8ae"
      },
      "execution_count": null,
      "outputs": [
        {
          "output_type": "stream",
          "name": "stdout",
          "text": [
            "23\n"
          ]
        }
      ]
    },
    {
      "cell_type": "markdown",
      "source": [
        "Here we are showing how indexing in tuples is similar to lists. However, tuples are not immutable and the following example shows that."
      ],
      "metadata": {
        "id": "5qxVh3ExA4Ef"
      }
    },
    {
      "cell_type": "code",
      "source": [
        "my_second_tuple = (22, \"hello!\", True, 3.1415)\n",
        "print(my_second_tuple[2])\n",
        "\n",
        "my_list[0] = 3.14\n",
        "print(my_list)\n",
        "\n",
        "my_second_tuple[0]=23\n",
        "print(my_second_tuple)"
      ],
      "metadata": {
        "id": "iRaGMce8eH8-",
        "colab": {
          "base_uri": "https://localhost:8080/",
          "height": 228
        },
        "outputId": "2d5e00c1-9a92-4dc0-e7bc-f47c867d3ba6"
      },
      "execution_count": null,
      "outputs": [
        {
          "output_type": "stream",
          "name": "stdout",
          "text": [
            "True\n",
            "[3.14, 22, 23, 24, 25]\n"
          ]
        },
        {
          "output_type": "error",
          "ename": "TypeError",
          "evalue": "'tuple' object does not support item assignment",
          "traceback": [
            "\u001b[0;31m---------------------------------------------------------------------------\u001b[0m",
            "\u001b[0;31mTypeError\u001b[0m                                 Traceback (most recent call last)",
            "\u001b[0;32m<ipython-input-10-e50a4e881538>\u001b[0m in \u001b[0;36m<cell line: 7>\u001b[0;34m()\u001b[0m\n\u001b[1;32m      5\u001b[0m \u001b[0mprint\u001b[0m\u001b[0;34m(\u001b[0m\u001b[0mmy_list\u001b[0m\u001b[0;34m)\u001b[0m\u001b[0;34m\u001b[0m\u001b[0;34m\u001b[0m\u001b[0m\n\u001b[1;32m      6\u001b[0m \u001b[0;34m\u001b[0m\u001b[0m\n\u001b[0;32m----> 7\u001b[0;31m \u001b[0mmy_second_tuple\u001b[0m\u001b[0;34m[\u001b[0m\u001b[0;36m0\u001b[0m\u001b[0;34m]\u001b[0m\u001b[0;34m=\u001b[0m\u001b[0;36m23\u001b[0m\u001b[0;34m\u001b[0m\u001b[0;34m\u001b[0m\u001b[0m\n\u001b[0m\u001b[1;32m      8\u001b[0m \u001b[0mprint\u001b[0m\u001b[0;34m(\u001b[0m\u001b[0mmy_second_tuple\u001b[0m\u001b[0;34m)\u001b[0m\u001b[0;34m\u001b[0m\u001b[0;34m\u001b[0m\u001b[0m\n",
            "\u001b[0;31mTypeError\u001b[0m: 'tuple' object does not support item assignment"
          ]
        }
      ]
    },
    {
      "cell_type": "markdown",
      "source": [
        "Here we show an example of a dictionary and how we call the key and get the value. What would happen if we call the value? Would we get the key in return?"
      ],
      "metadata": {
        "id": "LTy2FfazBFyq"
      }
    },
    {
      "cell_type": "code",
      "source": [
        "my_dictionary={'apple':'fruit', 'banana':'fruit', 'cabbage':'vegetable', 'dragonfruit':'fruit','eggplant':'vegetable'}\n",
        "print(my_dictionary['vegetable'])"
      ],
      "metadata": {
        "id": "dY2HBOZLe5Yg",
        "colab": {
          "base_uri": "https://localhost:8080/",
          "height": 158
        },
        "outputId": "547d6336-df62-4d6a-c950-2b74ecb56451"
      },
      "execution_count": null,
      "outputs": [
        {
          "output_type": "error",
          "ename": "KeyError",
          "evalue": "'vegetable'",
          "traceback": [
            "\u001b[0;31m---------------------------------------------------------------------------\u001b[0m",
            "\u001b[0;31mKeyError\u001b[0m                                  Traceback (most recent call last)",
            "\u001b[0;32m<ipython-input-12-2e9b26d150d6>\u001b[0m in \u001b[0;36m<cell line: 2>\u001b[0;34m()\u001b[0m\n\u001b[1;32m      1\u001b[0m \u001b[0mmy_dictionary\u001b[0m\u001b[0;34m=\u001b[0m\u001b[0;34m{\u001b[0m\u001b[0;34m'apple'\u001b[0m\u001b[0;34m:\u001b[0m\u001b[0;34m'fruit'\u001b[0m\u001b[0;34m,\u001b[0m \u001b[0;34m'banana'\u001b[0m\u001b[0;34m:\u001b[0m\u001b[0;34m'fruit'\u001b[0m\u001b[0;34m,\u001b[0m \u001b[0;34m'cabbage'\u001b[0m\u001b[0;34m:\u001b[0m\u001b[0;34m'vegetable'\u001b[0m\u001b[0;34m,\u001b[0m \u001b[0;34m'dragonfruit'\u001b[0m\u001b[0;34m:\u001b[0m\u001b[0;34m'fruit'\u001b[0m\u001b[0;34m,\u001b[0m\u001b[0;34m'eggplant'\u001b[0m\u001b[0;34m:\u001b[0m\u001b[0;34m'vegetable'\u001b[0m\u001b[0;34m}\u001b[0m\u001b[0;34m\u001b[0m\u001b[0;34m\u001b[0m\u001b[0m\n\u001b[0;32m----> 2\u001b[0;31m \u001b[0mprint\u001b[0m\u001b[0;34m(\u001b[0m\u001b[0mmy_dictionary\u001b[0m\u001b[0;34m[\u001b[0m\u001b[0;34m'vegetable'\u001b[0m\u001b[0;34m]\u001b[0m\u001b[0;34m)\u001b[0m\u001b[0;34m\u001b[0m\u001b[0;34m\u001b[0m\u001b[0m\n\u001b[0m",
            "\u001b[0;31mKeyError\u001b[0m: 'vegetable'"
          ]
        }
      ]
    },
    {
      "cell_type": "markdown",
      "source": [
        "Here we show an example of how to convert an integer to a float using the float(). You can also convert the integer to a string using the str(). Try it out yourself!"
      ],
      "metadata": {
        "id": "HefuGrEPhKxy"
      }
    },
    {
      "cell_type": "code",
      "source": [
        "num=3\n",
        "print(num)\n",
        "new_float=float(num)\n",
        "print(new_float)"
      ],
      "metadata": {
        "id": "Q3dF18Fef7_G",
        "colab": {
          "base_uri": "https://localhost:8080/"
        },
        "outputId": "d04d4bfe-4ca3-4b6a-aede-d29aa6ad92e5"
      },
      "execution_count": null,
      "outputs": [
        {
          "output_type": "stream",
          "name": "stdout",
          "text": [
            "3\n",
            "3.0\n"
          ]
        }
      ]
    },
    {
      "cell_type": "code",
      "source": [
        "num=3.0\n",
        "print(type(num),num)\n",
        "new_str=str(num)\n",
        "print(type(new_str),new_str)"
      ],
      "metadata": {
        "id": "-VIWGL-MnVnl",
        "colab": {
          "base_uri": "https://localhost:8080/"
        },
        "outputId": "86d2cd05-fc8d-4e93-9b1f-9d61126181e3"
      },
      "execution_count": null,
      "outputs": [
        {
          "output_type": "stream",
          "name": "stdout",
          "text": [
            "<class 'float'> 3.0\n",
            "<class 'str'> 3.0\n"
          ]
        }
      ]
    },
    {
      "cell_type": "code",
      "source": [
        "new_string=\"ehllo\"\n",
        "print(type(new_string),new_string)\n",
        "new_int=int(new_string)\n",
        "print(type(new_int),new_int)"
      ],
      "metadata": {
        "id": "KBrZPlqnnV6C",
        "colab": {
          "base_uri": "https://localhost:8080/",
          "height": 211
        },
        "outputId": "354654ed-a77e-4811-8bf7-c385f80a4e7d"
      },
      "execution_count": null,
      "outputs": [
        {
          "output_type": "stream",
          "name": "stdout",
          "text": [
            "<class 'str'> ehllo\n"
          ]
        },
        {
          "output_type": "error",
          "ename": "ValueError",
          "evalue": "invalid literal for int() with base 10: 'ehllo'",
          "traceback": [
            "\u001b[0;31m---------------------------------------------------------------------------\u001b[0m",
            "\u001b[0;31mValueError\u001b[0m                                Traceback (most recent call last)",
            "\u001b[0;32m<ipython-input-16-c23792e47bc4>\u001b[0m in \u001b[0;36m<cell line: 3>\u001b[0;34m()\u001b[0m\n\u001b[1;32m      1\u001b[0m \u001b[0mnew_string\u001b[0m\u001b[0;34m=\u001b[0m\u001b[0;34m\"ehllo\"\u001b[0m\u001b[0;34m\u001b[0m\u001b[0;34m\u001b[0m\u001b[0m\n\u001b[1;32m      2\u001b[0m \u001b[0mprint\u001b[0m\u001b[0;34m(\u001b[0m\u001b[0mtype\u001b[0m\u001b[0;34m(\u001b[0m\u001b[0mnew_string\u001b[0m\u001b[0;34m)\u001b[0m\u001b[0;34m,\u001b[0m\u001b[0mnew_string\u001b[0m\u001b[0;34m)\u001b[0m\u001b[0;34m\u001b[0m\u001b[0;34m\u001b[0m\u001b[0m\n\u001b[0;32m----> 3\u001b[0;31m \u001b[0mnew_int\u001b[0m\u001b[0;34m=\u001b[0m\u001b[0mint\u001b[0m\u001b[0;34m(\u001b[0m\u001b[0mnew_string\u001b[0m\u001b[0;34m)\u001b[0m\u001b[0;34m\u001b[0m\u001b[0;34m\u001b[0m\u001b[0m\n\u001b[0m\u001b[1;32m      4\u001b[0m \u001b[0mprint\u001b[0m\u001b[0;34m(\u001b[0m\u001b[0mtype\u001b[0m\u001b[0;34m(\u001b[0m\u001b[0mnew_int\u001b[0m\u001b[0;34m)\u001b[0m\u001b[0;34m,\u001b[0m\u001b[0mnew_int\u001b[0m\u001b[0;34m)\u001b[0m\u001b[0;34m\u001b[0m\u001b[0;34m\u001b[0m\u001b[0m\n",
            "\u001b[0;31mValueError\u001b[0m: invalid literal for int() with base 10: 'ehllo'"
          ]
        }
      ]
    },
    {
      "cell_type": "markdown",
      "source": [
        "This is some basic arithemetic operators. Remember that double asterisks means exponentiation!"
      ],
      "metadata": {
        "id": "nKF3RkxhBXPn"
      }
    },
    {
      "cell_type": "code",
      "source": [
        "print(5+3)\n",
        "print(10-5)\n",
        "print(12*12)\n",
        "print(100/25)\n",
        "print(2**4)"
      ],
      "metadata": {
        "id": "JosJrh1pgxxU",
        "colab": {
          "base_uri": "https://localhost:8080/"
        },
        "outputId": "258ddfc5-97fc-4a24-918f-7c00916c254a"
      },
      "execution_count": null,
      "outputs": [
        {
          "output_type": "stream",
          "name": "stdout",
          "text": [
            "8\n",
            "5\n",
            "144\n",
            "4.0\n",
            "16\n"
          ]
        }
      ]
    },
    {
      "cell_type": "markdown",
      "source": [
        "Here is an example of flooring and modulus. What would happen if we turned 11 to negative in the flooring example?"
      ],
      "metadata": {
        "id": "vgbhf2JHBfQ4"
      }
    },
    {
      "cell_type": "code",
      "source": [
        "print(-11//2)\n",
        "print(12%5)"
      ],
      "metadata": {
        "id": "2tzSJDK0g1Qo",
        "colab": {
          "base_uri": "https://localhost:8080/"
        },
        "outputId": "10ef2f9f-d0a5-45ed-ae74-f45a6685becd"
      },
      "execution_count": null,
      "outputs": [
        {
          "output_type": "stream",
          "name": "stdout",
          "text": [
            "-6\n",
            "2\n"
          ]
        }
      ]
    },
    {
      "cell_type": "markdown",
      "source": [
        "If Statements Self Test"
      ],
      "metadata": {
        "id": "mwAPEa2EB05P"
      }
    },
    {
      "cell_type": "code",
      "source": [
        "petal_width = 1.8\n",
        "petal_length = 3.5\n",
        "\n",
        "if petal_width < 3 or petal_length < 3:\n",
        " print(\"condition 1 passed\")\n",
        "\n",
        "if petal_width < 3 and petal_length < 3:\n",
        " print(\"condition 2 passed\")\n",
        "\n",
        "if petal_width < 3:\n",
        " if petal_length < 3:\n",
        "   print(\"condition 3 passed\")"
      ],
      "metadata": {
        "id": "XYYNOEehh9HR"
      },
      "execution_count": null,
      "outputs": []
    },
    {
      "cell_type": "markdown",
      "source": [
        "3 different ways to use the range function in for looping."
      ],
      "metadata": {
        "id": "0M1oyYz5kUql"
      }
    },
    {
      "cell_type": "code",
      "source": [
        "#for loops\n",
        "word_list = [\"Lorem\", \"ipsum\", \"dolor\", \"sit\", \"amet\", \"fusce\", \"rhoncus\", \"mi\", \"viverra\", \"velit\", \"mattis\"]"
      ],
      "metadata": {
        "id": "lQY44LIscOPL"
      },
      "execution_count": null,
      "outputs": []
    },
    {
      "cell_type": "code",
      "source": [
        "for number in range(3):\n",
        "  print(word_list[number])"
      ],
      "metadata": {
        "colab": {
          "base_uri": "https://localhost:8080/"
        },
        "id": "4CxulYBX3_RR",
        "outputId": "8d7ab043-64bd-457c-8c03-6e9928e18552"
      },
      "execution_count": null,
      "outputs": [
        {
          "output_type": "stream",
          "name": "stdout",
          "text": [
            "Lorem\n",
            "ipsum\n",
            "dolor\n"
          ]
        }
      ]
    },
    {
      "cell_type": "code",
      "source": [
        "for number in range(3, 6):\n",
        "  print(word_list[number])"
      ],
      "metadata": {
        "id": "JDjv19Dmkebd",
        "colab": {
          "base_uri": "https://localhost:8080/"
        },
        "outputId": "e478ac2d-95c1-49c2-dfec-45fc03aa4305"
      },
      "execution_count": null,
      "outputs": [
        {
          "output_type": "stream",
          "name": "stdout",
          "text": [
            "sit\n",
            "amet\n",
            "fusce\n"
          ]
        }
      ]
    },
    {
      "cell_type": "code",
      "source": [
        "for number in range(3, 11, 2):\n",
        "  print(word_list[number])"
      ],
      "metadata": {
        "id": "NukOb_BPkgD_",
        "colab": {
          "base_uri": "https://localhost:8080/"
        },
        "outputId": "e5be597e-3b79-4edd-e1ea-1a685e15d764"
      },
      "execution_count": null,
      "outputs": [
        {
          "output_type": "stream",
          "name": "stdout",
          "text": [
            "sit\n",
            "fusce\n",
            "mi\n",
            "velit\n"
          ]
        }
      ]
    },
    {
      "cell_type": "markdown",
      "source": [
        "Here is an example of a while loop."
      ],
      "metadata": {
        "id": "cExwNk9VL1DP"
      }
    },
    {
      "cell_type": "code",
      "source": [
        "my_number = 0\n",
        "while my_number < 6:\n",
        "  print(my_number)\n",
        "my_number = my_number + 1"
      ],
      "metadata": {
        "id": "G-5m-nrYL4ln"
      },
      "execution_count": null,
      "outputs": []
    },
    {
      "cell_type": "markdown",
      "source": [
        "Here is an example that shows the importance of tabbing. What would happen if we tabbed the print(sum) line?"
      ],
      "metadata": {
        "id": "w_ccAAHuCGYz"
      }
    },
    {
      "cell_type": "code",
      "source": [
        "a_list = [3, 22, 1, 73, 40, 3, 19]\n",
        "sum = 0\n",
        "\n",
        "for i in range(0, 7):\n",
        "  sum = sum + a_list[i]\n",
        "  sum /= 2.4\n",
        "  sum *= -1\n",
        "\n",
        "  print(a_list[i])\n",
        "\n",
        "#tab here\n",
        "  print(sum)"
      ],
      "metadata": {
        "id": "9BX5A4bze2c9",
        "colab": {
          "base_uri": "https://localhost:8080/"
        },
        "outputId": "028a0095-1f87-496e-b0da-e9842abbe729"
      },
      "execution_count": null,
      "outputs": [
        {
          "output_type": "stream",
          "name": "stdout",
          "text": [
            "3\n",
            "-1.25\n",
            "22\n",
            "-8.645833333333334\n",
            "1\n",
            "3.1857638888888893\n",
            "73\n",
            "-31.744068287037038\n",
            "40\n",
            "-3.439971547067901\n",
            "3\n",
            "0.1833214779449588\n",
            "19\n",
            "-7.993050615810399\n"
          ]
        }
      ]
    },
    {
      "cell_type": "markdown",
      "source": [
        "Here is an example of user input."
      ],
      "metadata": {
        "id": "KaHPFe24CZGN"
      }
    },
    {
      "cell_type": "code",
      "source": [
        "#inputs\n",
        "fav_animal=input(\"what's your favorite animal: \")\n",
        "print(fav_animal)"
      ],
      "metadata": {
        "id": "MgWVcQAifPy2",
        "colab": {
          "base_uri": "https://localhost:8080/"
        },
        "outputId": "0f77a507-1bad-4619-cd36-b6be9a02f690"
      },
      "execution_count": null,
      "outputs": [
        {
          "output_type": "stream",
          "name": "stdout",
          "text": [
            "what's your favorite animal: dolphin\n",
            "dolphin\n"
          ]
        }
      ]
    },
    {
      "cell_type": "markdown",
      "source": [
        "Here is an example of reading into a file. The following include the differences between read(), readline() and readlines()."
      ],
      "metadata": {
        "id": "00_WtvqHCfm4"
      }
    },
    {
      "cell_type": "code",
      "source": [
        "#reading into file\n",
        "file_object=open(\"Lecture1DemoTxt.txt\",\"r\")\n",
        "print(file_object.read())\n",
        "file_object.close()"
      ],
      "metadata": {
        "id": "EIT9_3J9hpri",
        "colab": {
          "base_uri": "https://localhost:8080/"
        },
        "outputId": "04277600-a918-434d-997e-d3e13ad106b3"
      },
      "execution_count": null,
      "outputs": [
        {
          "output_type": "stream",
          "name": "stdout",
          "text": [
            "Hello\n",
            "My name is AIBridge\n",
            "Lovely to meet all of you\n"
          ]
        }
      ]
    },
    {
      "cell_type": "code",
      "source": [
        "#reading into file\n",
        "file_object=open(\"Lecture1DemoTxt.txt\",\"r\")\n",
        "print(file_object.readline())\n",
        "file_object.close()"
      ],
      "metadata": {
        "id": "1JIUHVdyCrKf",
        "colab": {
          "base_uri": "https://localhost:8080/"
        },
        "outputId": "76eed89d-06fe-4a5a-fa71-98fa84bea7e6"
      },
      "execution_count": null,
      "outputs": [
        {
          "output_type": "stream",
          "name": "stdout",
          "text": [
            "Hello\n",
            "\n"
          ]
        }
      ]
    },
    {
      "cell_type": "code",
      "source": [
        "#reading into file\n",
        "file_object=open(\"Lecture1DemoTxt.txt\",\"r\")\n",
        "print(file_object.readlines())\n",
        "file_object.close()"
      ],
      "metadata": {
        "id": "PLCXFwLFCr_2",
        "colab": {
          "base_uri": "https://localhost:8080/"
        },
        "outputId": "9e5416a7-403d-49b4-9349-809e381bec4a"
      },
      "execution_count": null,
      "outputs": [
        {
          "output_type": "stream",
          "name": "stdout",
          "text": [
            "['Hello\\n', 'My name is AIBridge\\n', 'Lovely to meet all of you']\n"
          ]
        }
      ]
    },
    {
      "cell_type": "markdown",
      "source": [
        "Here is an example of writing into a new file."
      ],
      "metadata": {
        "id": "12HvUV-kCv2_"
      }
    },
    {
      "cell_type": "code",
      "source": [
        "#writing into file\n",
        "file_writer=open(\"Lecture1WriteTxt.txt\",\"w\")\n",
        "file_writer.write(\"Hi. nice to meet all of you\")\n",
        "file_writer.close()"
      ],
      "metadata": {
        "id": "sjd2-nWchaF1"
      },
      "execution_count": null,
      "outputs": []
    },
    {
      "cell_type": "markdown",
      "source": [
        "List Slicing Self Test"
      ],
      "metadata": {
        "id": "PpVR2KgxDIuK"
      }
    },
    {
      "cell_type": "code",
      "source": [
        "arr = [4, 5, 6, 101, 102, 103, 104, 105]\n",
        "\n",
        "new_arr = arr[2:6]\n",
        "print(new_arr)"
      ],
      "metadata": {
        "id": "H_CNGiRurY7a",
        "colab": {
          "base_uri": "https://localhost:8080/"
        },
        "outputId": "b664b34e-d872-46d4-a47b-8d5339d55f92"
      },
      "execution_count": null,
      "outputs": [
        {
          "output_type": "stream",
          "name": "stdout",
          "text": [
            "[6, 101, 102, 103]\n"
          ]
        }
      ]
    },
    {
      "cell_type": "markdown",
      "source": [
        "Here is an example of string indexing, the .join() and the .split()"
      ],
      "metadata": {
        "id": "ItL_gkykDweM"
      }
    },
    {
      "cell_type": "code",
      "source": [
        "second_list=[\"hi\",\"my name is\",\"AI Bridge\"]\n",
        "print('WW'.join(second_list))"
      ],
      "metadata": {
        "id": "_HES7cnEssc7",
        "colab": {
          "base_uri": "https://localhost:8080/"
        },
        "outputId": "7fc42aca-3bf8-4fb9-f881-d6e96b45fcd4"
      },
      "execution_count": null,
      "outputs": [
        {
          "output_type": "stream",
          "name": "stdout",
          "text": [
            "hiWWmy name isWWAI Bridge\n"
          ]
        }
      ]
    },
    {
      "cell_type": "code",
      "source": [
        "my_string=\"hello, bye\"\n",
        "substring=\",\"\n",
        "print(my_string.split(substring))\n",
        "print('this is a string'.split(' '))"
      ],
      "metadata": {
        "colab": {
          "base_uri": "https://localhost:8080/"
        },
        "id": "mGirxydnXdju",
        "outputId": "76e99658-2263-4203-a812-52cd9d2c158d"
      },
      "execution_count": null,
      "outputs": [
        {
          "output_type": "stream",
          "name": "stdout",
          "text": [
            "['hello', ' bye']\n",
            "['this', 'is', 'a', 'string']\n"
          ]
        }
      ]
    }
  ]
}